{
 "cells": [
  {
   "cell_type": "markdown",
   "metadata": {
    "_cell_guid": "b1076dfc-b9ad-4769-8c92-a6c4dae69d19",
    "_uuid": "8f2839f25d086af736a60e9eeb907d3b93b6e0e5",
    "execution": {
     "iopub.execute_input": "2021-11-30T23:14:01.524485Z",
     "iopub.status.busy": "2021-11-30T23:14:01.524178Z",
     "iopub.status.idle": "2021-11-30T23:14:01.530009Z",
     "shell.execute_reply": "2021-11-30T23:14:01.528317Z",
     "shell.execute_reply.started": "2021-11-30T23:14:01.524450Z"
    }
   },
   "source": [
    "# W207 Baseline Submission\n",
    "## Group 2: Austin Jin, Matt Lyons, Chandni Shah"
   ]
  },
  {
   "cell_type": "markdown",
   "metadata": {},
   "source": [
    "<b> Project Link:</b> https://www.kaggle.com/c/petfinder-pawpularity-score\n",
    "\n",
    "<b> Project Description:</b><br>\n",
    "\"In this competition, you’ll analyze raw images and metadata to predict the “Pawpularity” of pet photos. Your task is to predict engagement with a pet's profile based on the photograph for that profile. You are also provided with hand-labelled metadata for each photo. The dataset for this competition therefore comprises both images and tabular data.\" <br><br>\n",
    "\n",
    "\"Tabular Metadata: Each pet photo is labeled with the value of 1 (Yes) or 0 (No) for each of the following features. These labels are not used for deriving the Pawpularity score.\n",
    "\n",
    "- Focus - Pet stands out against uncluttered background, not too close / far.\n",
    "- Eyes - Both eyes are facing front or near-front, with at least 1 eye / pupil decently clear.\n",
    "- Face - Decently clear face, facing front or near-front.\n",
    "- Near - Single pet taking up significant portion of photo (roughly over 50% of photo width or height).\n",
    "- Action - Pet in the middle of an action (e.g., jumping).\n",
    "- Accessory - Accompanying physical or digital accessory / prop (i.e. toy, digital sticker), excluding collar and leash.\n",
    "- Group - More than 1 pet in the photo.\n",
    "- Collage - Digitally-retouched photo (i.e. with digital photo frame, combination of multiple photos).\n",
    "- Human - Human in the photo.\n",
    "- Occlusion - Specific undesirable objects blocking part of the pet (i.e. human, cage or fence). Note that not all blocking objects are considered occlusion.\n",
    "- Info - Custom-added text or labels (i.e. pet name, description).\n",
    "- Blur - Noticeably out of focus or noisy, especially for the pet’s eyes and face. For Blur entries, “Eyes” column is always set to 0.\""
   ]
  },
  {
   "cell_type": "markdown",
   "metadata": {},
   "source": [
    "## Part I - Metadata EDA"
   ]
  },
  {
   "cell_type": "markdown",
   "metadata": {
    "execution": {
     "iopub.execute_input": "2021-11-30T23:14:35.255854Z",
     "iopub.status.busy": "2021-11-30T23:14:35.255532Z",
     "iopub.status.idle": "2021-11-30T23:14:35.261031Z",
     "shell.execute_reply": "2021-11-30T23:14:35.259845Z",
     "shell.execute_reply.started": "2021-11-30T23:14:35.255824Z"
    }
   },
   "source": [
    "### In order to better understand the 'petfinder-pawpularity-score' dataset, we have performed some early EDA by performing the following pre-requisites:"
   ]
  },
  {
   "cell_type": "markdown",
   "metadata": {},
   "source": [
    "## 1. Load in the packages"
   ]
  },
  {
   "cell_type": "code",
   "execution_count": 1,
   "metadata": {
    "execution": {
     "iopub.execute_input": "2021-11-30T23:13:33.146346Z",
     "iopub.status.busy": "2021-11-30T23:13:33.145990Z",
     "iopub.status.idle": "2021-11-30T23:13:33.437195Z",
     "shell.execute_reply": "2021-11-30T23:13:33.435586Z",
     "shell.execute_reply.started": "2021-11-30T23:13:33.146317Z"
    }
   },
   "outputs": [],
   "source": [
    "import os\n",
    "import pandas as pd\n",
    "import numpy as np\n",
    "import matplotlib.pyplot as plt\n",
    "import matplotlib.patches as mpatches\n",
    "import seaborn as sns\n",
    "from pathlib import Path\n",
    "from matplotlib import image\n",
    "from glob import glob\n",
    "import cv2\n",
    "\n",
    "%matplotlib inline\n",
    "\n",
    "import time\n",
    "from matplotlib.ticker import MultipleLocator\n",
    "from sklearn.pipeline import Pipeline\n",
    "from sklearn.datasets import fetch_openml\n",
    "from sklearn.neighbors import KNeighborsRegressor\n",
    "from sklearn.metrics import confusion_matrix\n",
    "from sklearn.linear_model import LinearRegression\n",
    "from sklearn.ensemble import RandomForestRegressor\n",
    "from sklearn.naive_bayes import BernoulliNB\n",
    "from sklearn.naive_bayes import MultinomialNB\n",
    "from sklearn.naive_bayes import GaussianNB\n",
    "from sklearn.model_selection import GridSearchCV\n",
    "from sklearn.metrics import classification_report\n",
    "from sklearn.model_selection import train_test_split\n",
    "from sklearn.metrics import mean_squared_error\n",
    "from sklearn.metrics import r2_score\n",
    "from math import sqrt\n",
    "from sklearn import tree\n",
    "from sklearn.tree import DecisionTreeRegressor\n",
    "import tensorflow as tf\n",
    "from tensorflow import keras\n",
    "from tensorflow.keras import layers\n",
    "from tensorflow.keras.regularizers import l2\n",
    "from tensorflow.keras.preprocessing.image import ImageDataGenerator\n",
    "from tensorflow.python.client import device_lib\n",
    "from tensorflow.keras import datasets, layers, models\n",
    "from tqdm.auto import tqdm\n",
    "from tensorflow.keras.applications import EfficientNetB0\n",
    "\n",
    "import lightgbm as lgb\n",
    "from sklearn.experimental import enable_hist_gradient_boosting\n",
    "from sklearn.ensemble import HistGradientBoostingRegressor"
   ]
  },
  {
   "cell_type": "code",
   "execution_count": 2,
   "metadata": {
    "execution": {
     "iopub.execute_input": "2021-11-30T23:15:35.358927Z",
     "iopub.status.busy": "2021-11-30T23:15:35.358466Z",
     "iopub.status.idle": "2021-11-30T23:15:35.741722Z",
     "shell.execute_reply": "2021-11-30T23:15:35.740691Z",
     "shell.execute_reply.started": "2021-11-30T23:15:35.358887Z"
    }
   },
   "outputs": [],
   "source": [
    "#source path (where the Pawpularity contest data resides)\n",
    "path = './'\n",
    "\n",
    "#Get the metadata (the .csv data) and put it into DataFrames\n",
    "train_df = pd.read_csv(path + 'train.csv')\n",
    "test_df = pd.read_csv(path + 'test.csv')\n",
    "\n",
    "#Get the image data (the .jpg data) and put it into lists of filenames\n",
    "train_jpg = glob(path + \"train/*.jpg\")\n",
    "test_jpg = glob(path + \"test/*.jpg\")"
   ]
  },
  {
   "cell_type": "code",
   "execution_count": 3,
   "metadata": {
    "execution": {
     "iopub.execute_input": "2021-11-30T23:15:44.716932Z",
     "iopub.status.busy": "2021-11-30T23:15:44.716202Z",
     "iopub.status.idle": "2021-11-30T23:15:44.726681Z",
     "shell.execute_reply": "2021-11-30T23:15:44.725458Z",
     "shell.execute_reply.started": "2021-11-30T23:15:44.716901Z"
    }
   },
   "outputs": [
    {
     "name": "stdout",
     "output_type": "stream",
     "text": [
      "train_df dimensions:  (9912, 14)\n",
      "train_df column names:  ['Id', 'Subject Focus', 'Eyes', 'Face', 'Near', 'Action', 'Accessory', 'Group', 'Collage', 'Human', 'Occlusion', 'Info', 'Blur', 'Pawpularity']\n",
      "\n",
      "test_df dimensions:  (8, 13)\n",
      "test_df column names:  ['Id', 'Subject Focus', 'Eyes', 'Face', 'Near', 'Action', 'Accessory', 'Group', 'Collage', 'Human', 'Occlusion', 'Info', 'Blur']\n"
     ]
    }
   ],
   "source": [
    "# Printing the dimensions for the train metadata.\n",
    "print('train_df dimensions: ', train_df.shape)\n",
    "print('train_df column names: ', train_df.columns.values.tolist())\n",
    "\n",
    "# Adding a space in between the dimensions for the train and test metadata\n",
    "print('')\n",
    "\n",
    "# Printing the dimensions for the test metadata\n",
    "print('test_df dimensions: ',test_df.shape)\n",
    "print('test_df column names: ', test_df.columns.values.tolist())\n",
    "\n",
    "# After printing the shape of the train_df and test_df DataFrames, we have noticed that the train_df has 9912 rows and 14 columns whereas the test_df only has 8 rows and 13 columns. It is also worth mentioning that the test_df dataframe doesn't contain the pawpularity score."
   ]
  },
  {
   "cell_type": "markdown",
   "metadata": {},
   "source": [
    "### After printing the shape of the train_df and test_df dataframes, we can see that the train_df has 14 columns and 9912 rows, while the test_df only has 13 columns and 8 rows. It is also worth noting that the test_df particulary hasn't have pawpularity score data attached to it. We have further explored the metadata in the train dataframe since it would be the dataset for building out our models and have decided to utilize the test dataframe for practicing some predictions since it didn't contain a column for pawpularity score:"
   ]
  },
  {
   "cell_type": "code",
   "execution_count": 5,
   "metadata": {
    "execution": {
     "iopub.execute_input": "2021-11-30T23:16:07.120913Z",
     "iopub.status.busy": "2021-11-30T23:16:07.120597Z",
     "iopub.status.idle": "2021-11-30T23:16:07.149542Z",
     "shell.execute_reply": "2021-11-30T23:16:07.148457Z",
     "shell.execute_reply.started": "2021-11-30T23:16:07.120871Z"
    }
   },
   "outputs": [
    {
     "data": {
      "text/html": [
       "<div>\n",
       "<style scoped>\n",
       "    .dataframe tbody tr th:only-of-type {\n",
       "        vertical-align: middle;\n",
       "    }\n",
       "\n",
       "    .dataframe tbody tr th {\n",
       "        vertical-align: top;\n",
       "    }\n",
       "\n",
       "    .dataframe thead th {\n",
       "        text-align: right;\n",
       "    }\n",
       "</style>\n",
       "<table border=\"1\" class=\"dataframe\">\n",
       "  <thead>\n",
       "    <tr style=\"text-align: right;\">\n",
       "      <th></th>\n",
       "      <th>Id</th>\n",
       "      <th>Subject Focus</th>\n",
       "      <th>Eyes</th>\n",
       "      <th>Face</th>\n",
       "      <th>Near</th>\n",
       "      <th>Action</th>\n",
       "      <th>Accessory</th>\n",
       "      <th>Group</th>\n",
       "      <th>Collage</th>\n",
       "      <th>Human</th>\n",
       "      <th>Occlusion</th>\n",
       "      <th>Info</th>\n",
       "      <th>Blur</th>\n",
       "      <th>Pawpularity</th>\n",
       "    </tr>\n",
       "  </thead>\n",
       "  <tbody>\n",
       "    <tr>\n",
       "      <th>0</th>\n",
       "      <td>0007de18844b0dbbb5e1f607da0606e0</td>\n",
       "      <td>0</td>\n",
       "      <td>1</td>\n",
       "      <td>1</td>\n",
       "      <td>1</td>\n",
       "      <td>0</td>\n",
       "      <td>0</td>\n",
       "      <td>1</td>\n",
       "      <td>0</td>\n",
       "      <td>0</td>\n",
       "      <td>0</td>\n",
       "      <td>0</td>\n",
       "      <td>0</td>\n",
       "      <td>63</td>\n",
       "    </tr>\n",
       "    <tr>\n",
       "      <th>1</th>\n",
       "      <td>0009c66b9439883ba2750fb825e1d7db</td>\n",
       "      <td>0</td>\n",
       "      <td>1</td>\n",
       "      <td>1</td>\n",
       "      <td>0</td>\n",
       "      <td>0</td>\n",
       "      <td>0</td>\n",
       "      <td>0</td>\n",
       "      <td>0</td>\n",
       "      <td>0</td>\n",
       "      <td>0</td>\n",
       "      <td>0</td>\n",
       "      <td>0</td>\n",
       "      <td>42</td>\n",
       "    </tr>\n",
       "    <tr>\n",
       "      <th>2</th>\n",
       "      <td>0013fd999caf9a3efe1352ca1b0d937e</td>\n",
       "      <td>0</td>\n",
       "      <td>1</td>\n",
       "      <td>1</td>\n",
       "      <td>1</td>\n",
       "      <td>0</td>\n",
       "      <td>0</td>\n",
       "      <td>0</td>\n",
       "      <td>0</td>\n",
       "      <td>1</td>\n",
       "      <td>1</td>\n",
       "      <td>0</td>\n",
       "      <td>0</td>\n",
       "      <td>28</td>\n",
       "    </tr>\n",
       "    <tr>\n",
       "      <th>3</th>\n",
       "      <td>0018df346ac9c1d8413cfcc888ca8246</td>\n",
       "      <td>0</td>\n",
       "      <td>1</td>\n",
       "      <td>1</td>\n",
       "      <td>1</td>\n",
       "      <td>0</td>\n",
       "      <td>0</td>\n",
       "      <td>0</td>\n",
       "      <td>0</td>\n",
       "      <td>0</td>\n",
       "      <td>0</td>\n",
       "      <td>0</td>\n",
       "      <td>0</td>\n",
       "      <td>15</td>\n",
       "    </tr>\n",
       "    <tr>\n",
       "      <th>4</th>\n",
       "      <td>001dc955e10590d3ca4673f034feeef2</td>\n",
       "      <td>0</td>\n",
       "      <td>0</td>\n",
       "      <td>0</td>\n",
       "      <td>1</td>\n",
       "      <td>0</td>\n",
       "      <td>0</td>\n",
       "      <td>1</td>\n",
       "      <td>0</td>\n",
       "      <td>0</td>\n",
       "      <td>0</td>\n",
       "      <td>0</td>\n",
       "      <td>0</td>\n",
       "      <td>72</td>\n",
       "    </tr>\n",
       "    <tr>\n",
       "      <th>5</th>\n",
       "      <td>001dd4f6fafb890610b1635f967ea081</td>\n",
       "      <td>0</td>\n",
       "      <td>0</td>\n",
       "      <td>1</td>\n",
       "      <td>0</td>\n",
       "      <td>0</td>\n",
       "      <td>0</td>\n",
       "      <td>0</td>\n",
       "      <td>0</td>\n",
       "      <td>0</td>\n",
       "      <td>0</td>\n",
       "      <td>0</td>\n",
       "      <td>1</td>\n",
       "      <td>74</td>\n",
       "    </tr>\n",
       "    <tr>\n",
       "      <th>6</th>\n",
       "      <td>0023b8a3abc93c712edd6120867deb53</td>\n",
       "      <td>0</td>\n",
       "      <td>1</td>\n",
       "      <td>1</td>\n",
       "      <td>1</td>\n",
       "      <td>0</td>\n",
       "      <td>0</td>\n",
       "      <td>0</td>\n",
       "      <td>0</td>\n",
       "      <td>1</td>\n",
       "      <td>1</td>\n",
       "      <td>0</td>\n",
       "      <td>0</td>\n",
       "      <td>22</td>\n",
       "    </tr>\n",
       "    <tr>\n",
       "      <th>7</th>\n",
       "      <td>0031d6a9ef7340f898c3e05f92c7bb04</td>\n",
       "      <td>0</td>\n",
       "      <td>1</td>\n",
       "      <td>1</td>\n",
       "      <td>0</td>\n",
       "      <td>0</td>\n",
       "      <td>0</td>\n",
       "      <td>1</td>\n",
       "      <td>1</td>\n",
       "      <td>0</td>\n",
       "      <td>0</td>\n",
       "      <td>1</td>\n",
       "      <td>0</td>\n",
       "      <td>35</td>\n",
       "    </tr>\n",
       "    <tr>\n",
       "      <th>8</th>\n",
       "      <td>0042bc5bada6d1cf8951f8f9f0d399fa</td>\n",
       "      <td>0</td>\n",
       "      <td>1</td>\n",
       "      <td>1</td>\n",
       "      <td>1</td>\n",
       "      <td>0</td>\n",
       "      <td>0</td>\n",
       "      <td>0</td>\n",
       "      <td>0</td>\n",
       "      <td>0</td>\n",
       "      <td>0</td>\n",
       "      <td>0</td>\n",
       "      <td>0</td>\n",
       "      <td>53</td>\n",
       "    </tr>\n",
       "    <tr>\n",
       "      <th>9</th>\n",
       "      <td>0049cb81313c94fa007286e9039af910</td>\n",
       "      <td>0</td>\n",
       "      <td>1</td>\n",
       "      <td>1</td>\n",
       "      <td>1</td>\n",
       "      <td>0</td>\n",
       "      <td>0</td>\n",
       "      <td>0</td>\n",
       "      <td>0</td>\n",
       "      <td>0</td>\n",
       "      <td>0</td>\n",
       "      <td>0</td>\n",
       "      <td>0</td>\n",
       "      <td>21</td>\n",
       "    </tr>\n",
       "  </tbody>\n",
       "</table>\n",
       "</div>"
      ],
      "text/plain": [
       "                                 Id  Subject Focus  Eyes  Face  Near  Action  \\\n",
       "0  0007de18844b0dbbb5e1f607da0606e0              0     1     1     1       0   \n",
       "1  0009c66b9439883ba2750fb825e1d7db              0     1     1     0       0   \n",
       "2  0013fd999caf9a3efe1352ca1b0d937e              0     1     1     1       0   \n",
       "3  0018df346ac9c1d8413cfcc888ca8246              0     1     1     1       0   \n",
       "4  001dc955e10590d3ca4673f034feeef2              0     0     0     1       0   \n",
       "5  001dd4f6fafb890610b1635f967ea081              0     0     1     0       0   \n",
       "6  0023b8a3abc93c712edd6120867deb53              0     1     1     1       0   \n",
       "7  0031d6a9ef7340f898c3e05f92c7bb04              0     1     1     0       0   \n",
       "8  0042bc5bada6d1cf8951f8f9f0d399fa              0     1     1     1       0   \n",
       "9  0049cb81313c94fa007286e9039af910              0     1     1     1       0   \n",
       "\n",
       "   Accessory  Group  Collage  Human  Occlusion  Info  Blur  Pawpularity  \n",
       "0          0      1        0      0          0     0     0           63  \n",
       "1          0      0        0      0          0     0     0           42  \n",
       "2          0      0        0      1          1     0     0           28  \n",
       "3          0      0        0      0          0     0     0           15  \n",
       "4          0      1        0      0          0     0     0           72  \n",
       "5          0      0        0      0          0     0     1           74  \n",
       "6          0      0        0      1          1     0     0           22  \n",
       "7          0      1        1      0          0     1     0           35  \n",
       "8          0      0        0      0          0     0     0           53  \n",
       "9          0      0        0      0          0     0     0           21  "
      ]
     },
     "execution_count": 5,
     "metadata": {},
     "output_type": "execute_result"
    }
   ],
   "source": [
    "# Display the first 10 rows of the train_df dataframe\n",
    "train_df.head(10)"
   ]
  },
  {
   "cell_type": "markdown",
   "metadata": {},
   "source": [
    "### It was noticed that train_df still contains ID's of the photos which means that we won't be necessarily using this metadata when building out the models. Since we figured that it would be useful to also take a look athe distribution of the target variable, which would be the Pawpularity Score in the ranges from 1-100, a simple histogram has been plotted out to view the distribution:"
   ]
  },
  {
   "cell_type": "code",
   "execution_count": 8,
   "metadata": {
    "execution": {
     "iopub.execute_input": "2021-11-30T23:16:26.859162Z",
     "iopub.status.busy": "2021-11-30T23:16:26.858902Z",
     "iopub.status.idle": "2021-11-30T23:16:27.528264Z",
     "shell.execute_reply": "2021-11-30T23:16:27.527351Z",
     "shell.execute_reply.started": "2021-11-30T23:16:26.859135Z"
    }
   },
   "outputs": [],
   "source": [
    "# Distribution for Pawpularity Scores\n",
    "\n",
    "sns.set(rc={'figure.figsize':(15,5)})\n",
    "fig = plt.figure()\n",
    "sns.histplot(data=train_df, x='Pawpularity', bins=100)\n",
    "plt.axvline(train_df['Pawpularity'].mean(), c='red', ls='-', lw=3, label='Mean Pawpularity')\n",
    "plt.axvline(train_df['Pawpularity'].median(),c='blue',ls='-',lw=3, label='Median Pawpularity')\n",
    "plt.title('Distribution of Pawpularity Scores', fontsize=20, fontweight='bold')\n",
    "plt.legend()\n",
    "plt.show()"
   ]
  },
  {
   "cell_type": "markdown",
   "metadata": {},
   "source": [
    "### After taking a look at the histogram, we see that there is a skew in the distribution of the pawpularity scores. It was interesting to see that there is a small curve close to zero Pawpularity along with another curve at the 100 Pawpularity Score with a count of close to 300. Since the EDA alone doesn't allow us to truly know the reason as to why there were many scores at 100, we have decided to keep the following theories in mind:\n",
    "\n",
    "##### - Was there something unique about the animals such as their age, color, or breed that was most desirable by the people visiting the site?\n",
    "##### - Did it have to do with the way in which photos were taken that were leading to more clicks and thus a higher Pawpularity score?\n",
    "##### - Did it have to do with the Pawpularity score itself?\n",
    "##### - Were there any outliers that need to be removed from the training data to improve the models that were built?\n",
    "##### - Was there perhaps any noise in the dataset that caused the huge increase in pawpularity scores of 100?\n",
    "\n",
    "### Since we are unable to find the actual answer through EDA alone, we plan on looking to develop concrete ML models that will allow us to see which features make more impact on the high pawpularity score in order to further explain the curves."
   ]
  },
  {
   "cell_type": "code",
   "execution_count": 9,
   "metadata": {
    "execution": {
     "iopub.execute_input": "2021-11-30T23:16:44.716302Z",
     "iopub.status.busy": "2021-11-30T23:16:44.716015Z",
     "iopub.status.idle": "2021-11-30T23:16:44.740509Z",
     "shell.execute_reply": "2021-11-30T23:16:44.739487Z",
     "shell.execute_reply.started": "2021-11-30T23:16:44.716275Z"
    }
   },
   "outputs": [],
   "source": [
    "# Describe the distribution of the train dataframe in a numerical way\n",
    "\n",
    "train_df[['Pawpularity']].describe()"
   ]
  },
  {
   "cell_type": "code",
   "execution_count": 10,
   "metadata": {
    "execution": {
     "iopub.execute_input": "2021-11-30T23:16:51.812561Z",
     "iopub.status.busy": "2021-11-30T23:16:51.811954Z",
     "iopub.status.idle": "2021-11-30T23:17:03.482291Z",
     "shell.execute_reply": "2021-11-30T23:17:03.481343Z",
     "shell.execute_reply.started": "2021-11-30T23:16:51.812519Z"
    }
   },
   "outputs": [],
   "source": [
    "# Put column names into a list\n",
    "feature_variables = train_df.columns.values.tolist()\n",
    "\n",
    "# For each feature variable, doesn't include Id and Pawpularity by using [1:-1]\n",
    "# Display a boxplot and distribution plot against pawpularity\n",
    "for variable in feature_variables[1:-1]:\n",
    "    fig, ax = plt.subplots(1,2)\n",
    "    sns.boxplot(data=train_df, x=variable, y='Pawpularity', ax=ax[0])\n",
    "    sns.histplot(train_df, x=\"Pawpularity\", hue=variable, kde=True, ax=ax[1])\n",
    "    plt.suptitle(variable, fontsize=20, fontweight='bold')\n",
    "    fig.show()"
   ]
  },
  {
   "cell_type": "markdown",
   "metadata": {},
   "source": [
    "### As you can see from the charts, the distribution of pawpularity scores is very similar for each feature variable which means that changing the features doesn't end up influencing the pawpularity scores as much. This would mean that we would need to use the images and not the .csv metadata. This would've not been realized if it hadn't been for the EDA that was performed. We will focus on analyzing the pixels for the remainder of the baseline."
   ]
  },
  {
   "cell_type": "markdown",
   "metadata": {},
   "source": [
    "## Part II - Pixel EDA"
   ]
  },
  {
   "cell_type": "markdown",
   "metadata": {},
   "source": [
    "### Before resizing the images to a uniform size, we have decided to explore the image data by taking a look at the first image in the train_jpg dataset and plotting that initial image:"
   ]
  },
  {
   "cell_type": "code",
   "execution_count": 11,
   "metadata": {
    "execution": {
     "iopub.execute_input": "2021-11-30T23:18:49.401051Z",
     "iopub.status.busy": "2021-11-30T23:18:49.400758Z",
     "iopub.status.idle": "2021-11-30T23:18:49.407998Z",
     "shell.execute_reply": "2021-11-30T23:18:49.406643Z",
     "shell.execute_reply.started": "2021-11-30T23:18:49.401021Z"
    }
   },
   "outputs": [],
   "source": [
    "print(train_jpg[0])"
   ]
  },
  {
   "cell_type": "code",
   "execution_count": 12,
   "metadata": {
    "execution": {
     "iopub.execute_input": "2021-11-30T23:18:55.830928Z",
     "iopub.status.busy": "2021-11-30T23:18:55.830525Z",
     "iopub.status.idle": "2021-11-30T23:18:56.127227Z",
     "shell.execute_reply": "2021-11-30T23:18:56.126329Z",
     "shell.execute_reply.started": "2021-11-30T23:18:55.830867Z"
    }
   },
   "outputs": [],
   "source": [
    "path_image = train_jpg[0]\n",
    "array_image = plt.imread(path_image) \n",
    "print(array_image.shape)\n",
    "\n",
    "plt.imshow(array_image)\n",
    "plt.title('Initial Training Image') \n",
    "plt.axis('off')\n",
    "plt.show()"
   ]
  },
  {
   "cell_type": "markdown",
   "metadata": {},
   "source": [
    "### Next, we have attached a Pawpularity score as the title next to each image:"
   ]
  },
  {
   "cell_type": "code",
   "execution_count": 13,
   "metadata": {
    "execution": {
     "iopub.execute_input": "2021-11-30T23:19:25.818711Z",
     "iopub.status.busy": "2021-11-30T23:19:25.818064Z",
     "iopub.status.idle": "2021-11-30T23:19:26.836399Z",
     "shell.execute_reply": "2021-11-30T23:19:26.833547Z",
     "shell.execute_reply.started": "2021-11-30T23:19:25.818670Z"
    }
   },
   "outputs": [],
   "source": [
    "for x in range(3):\n",
    "    path_image = train_jpg[x]\n",
    "    array_image = plt.imread(path_image) \n",
    "    print(\"The image {}'s dimensions are: {}\".format(x,array_image.shape))\n",
    "    plt.imshow(array_image)\n",
    "    plt.title(x) \n",
    "    plt.axis('off')\n",
    "    plt.show()"
   ]
  },
  {
   "cell_type": "markdown",
   "metadata": {},
   "source": [
    "### After gaining an initial sense of images looked, we have decided to start resizing the images to a uniform size. In this transformation, we also add white padding to images to help preserve image quality during the resizing."
   ]
  },
  {
   "cell_type": "code",
   "execution_count": 4,
   "metadata": {
    "execution": {
     "iopub.execute_input": "2021-11-30T23:20:03.471973Z",
     "iopub.status.busy": "2021-11-30T23:20:03.471120Z",
     "iopub.status.idle": "2021-11-30T23:20:03.480550Z",
     "shell.execute_reply": "2021-11-30T23:20:03.479358Z",
     "shell.execute_reply.started": "2021-11-30T23:20:03.471925Z"
    }
   },
   "outputs": [],
   "source": [
    "## Process in the training and test data, including the bw 1-d train data for baseline\n",
    "\n",
    "train_path = './train_resized'\n",
    "train_bw_path = './train_resized_bw'\n",
    "test_path = './test'\n",
    "\n",
    "train_jpg = glob(train_path + \"/*.jpg\")\n",
    "train_bw_jpg = glob(train_bw_path + \"/*.jpg\")\n",
    "test_jpg = glob(test_path + \"/*.jpg\")\n",
    "\n",
    "\n",
    "train_images = [cv2.imread(file) for file in train_jpg]\n",
    "train_bw_images_1d = [cv2.imread(file, 0).flatten(order = 'C') for file in train_bw_jpg] # 0 for grayscale, C for row-style flattening\n",
    "test_images = [cv2.imread(file) for file in test_jpg]"
   ]
  },
  {
   "cell_type": "code",
   "execution_count": 5,
   "metadata": {
    "execution": {
     "iopub.execute_input": "2021-11-30T23:22:40.424001Z",
     "iopub.status.busy": "2021-11-30T23:22:40.423036Z",
     "iopub.status.idle": "2021-11-30T23:22:40.430939Z",
     "shell.execute_reply": "2021-11-30T23:22:40.429778Z",
     "shell.execute_reply.started": "2021-11-30T23:22:40.423954Z"
    }
   },
   "outputs": [],
   "source": [
    "# normalize pixel values from 0 to 1 instead of from 0 to 255.\n",
    "X = np.array(train_bw_images_1d)\n",
    "X = X / 255\n",
    "Y = np.array(train_df['Pawpularity'])"
   ]
  },
  {
   "cell_type": "code",
   "execution_count": 23,
   "metadata": {
    "execution": {
     "iopub.execute_input": "2021-11-30T23:22:44.175819Z",
     "iopub.status.busy": "2021-11-30T23:22:44.175335Z",
     "iopub.status.idle": "2021-11-30T23:22:44.182142Z",
     "shell.execute_reply": "2021-11-30T23:22:44.180927Z",
     "shell.execute_reply.started": "2021-11-30T23:22:44.175788Z"
    }
   },
   "outputs": [],
   "source": [
    "X.shape"
   ]
  },
  {
   "cell_type": "markdown",
   "metadata": {},
   "source": [
    "### Examples of Transformed Images, Top Scoring Images, and Bottom Scoring Images:"
   ]
  },
  {
   "cell_type": "code",
   "execution_count": 21,
   "metadata": {
    "execution": {
     "iopub.execute_input": "2021-11-30T23:22:33.891112Z",
     "iopub.status.busy": "2021-11-30T23:22:33.890795Z",
     "iopub.status.idle": "2021-11-30T23:22:35.113710Z",
     "shell.execute_reply": "2021-11-30T23:22:35.112367Z",
     "shell.execute_reply.started": "2021-11-30T23:22:33.891078Z"
    }
   },
   "outputs": [],
   "source": [
    "#examples of transformed images\n",
    "pltnum = 0\n",
    "plt.figure(figsize=(100,100))\n",
    "\n",
    "for i in range(3):\n",
    "    pltnum += 1\n",
    "    plt.subplot(1, 3, pltnum)\n",
    "    plt.imshow(X[i].reshape(300,300), cmap='gray')\n",
    "    plt.axis('off')"
   ]
  },
  {
   "cell_type": "code",
   "execution_count": null,
   "metadata": {},
   "outputs": [],
   "source": [
    "#examples of score = 100\n",
    "\n",
    "y_100 = np.where(Y == 100)\n",
    "\n",
    "\n",
    "pltnum = 0\n",
    "plt.figure(figsize=(100,100))\n",
    "\n",
    "for i in y_100[0][:3]:\n",
    "    pltnum += 1\n",
    "    plt.subplot(1, 3, pltnum)\n",
    "    plt.imshow(X[i].reshape(300,300), cmap='gray')\n",
    "    plt.axis('off')"
   ]
  },
  {
   "cell_type": "code",
   "execution_count": null,
   "metadata": {},
   "outputs": [],
   "source": [
    "#example of scores in 75th percentile\n",
    "y_75quant = np.where(Y == np.percentile(Y, 75))\n",
    "\n",
    "pltnum = 0\n",
    "plt.figure(figsize=(100,100))\n",
    "\n",
    "for i in y_75quant[0][:3]:\n",
    "    pltnum += 1\n",
    "    plt.subplot(1, 3, pltnum)\n",
    "    plt.imshow(X[i].reshape(300,300), cmap='gray')\n",
    "    plt.axis('off')"
   ]
  },
  {
   "cell_type": "code",
   "execution_count": null,
   "metadata": {},
   "outputs": [],
   "source": [
    "#example of scores in 25th percentile\n",
    "y_25quant = np.where(Y == np.percentile(Y, 25))\n",
    "\n",
    "pltnum = 0\n",
    "plt.figure(figsize=(100,100))\n",
    "\n",
    "for i in y_25quant[0][:3]:\n",
    "    pltnum += 1\n",
    "    plt.subplot(1, 3, pltnum)\n",
    "    plt.imshow(X[i].reshape(300,300), cmap='gray')\n",
    "    plt.axis('off')"
   ]
  },
  {
   "cell_type": "markdown",
   "metadata": {},
   "source": [
    "### Part III - Baseline Model with Tabular Data"
   ]
  },
  {
   "cell_type": "markdown",
   "metadata": {},
   "source": [
    "### While we will be scoring on RMSE, we also created a custom scoring function to determine if the pawpularity predicted scores are within a specific point-range of the actual scores."
   ]
  },
  {
   "cell_type": "code",
   "execution_count": 6,
   "metadata": {},
   "outputs": [],
   "source": [
    "def proximity_score(predicted, actual, tol=5):\n",
    "    size = 1\n",
    "    for dim in np.shape(actual): size *= dim\n",
    "    return np.count_nonzero(np.absolute(np.subtract(predicted, actual)) <= tol) / size"
   ]
  },
  {
   "cell_type": "markdown",
   "metadata": {},
   "source": [
    "### KNN Regression Model (tabular data)"
   ]
  },
  {
   "cell_type": "code",
   "execution_count": 13,
   "metadata": {},
   "outputs": [
    {
     "name": "stdout",
     "output_type": "stream",
     "text": [
      "(7929, 12)\n",
      "(7929,)\n",
      "(1983, 12)\n",
      "(1983,)\n"
     ]
    }
   ],
   "source": [
    "# select tabular columns\n",
    "X2 = np.array(train_df)[:,1:13]\n",
    "\n",
    "train_array, test_array, train_labels, test_labels = train_test_split(X2, Y, test_size = .2, random_state = 42)\n",
    "print(train_array.shape)\n",
    "print(train_labels.shape)\n",
    "print(test_array.shape)\n",
    "print(test_labels.shape)"
   ]
  },
  {
   "cell_type": "code",
   "execution_count": 14,
   "metadata": {},
   "outputs": [
    {
     "name": "stdout",
     "output_type": "stream",
     "text": [
      "For k = 1, the RMSE is: 35.4794.\n",
      "For k = 1 , 24.36% of predicted labels are within 10 of the correct label. \n",
      "\n",
      "For k = 5, the RMSE is: 24.0034.\n",
      "For k = 5 , 40.44% of predicted labels are within 10 of the correct label. \n",
      "\n",
      "For k = 9, the RMSE is: 24.7551.\n",
      "For k = 9 , 36.21% of predicted labels are within 10 of the correct label. \n",
      "\n",
      "For k = 11, the RMSE is: 24.0742.\n",
      "For k = 11 , 39.84% of predicted labels are within 10 of the correct label. \n",
      "\n",
      "For k = 55, the RMSE is: 21.4419.\n",
      "For k = 55 , 45.69% of predicted labels are within 10 of the correct label. \n",
      "\n",
      "For k = 175, the RMSE is: 21.0262.\n",
      "For k = 175 , 43.47% of predicted labels are within 10 of the correct label. \n",
      "\n",
      "For k = 201, the RMSE is: 20.9892.\n",
      "For k = 201 , 42.76% of predicted labels are within 10 of the correct label. \n",
      "\n",
      "For k = 301, the RMSE is: 21.0011.\n",
      "For k = 301 , 41.75% of predicted labels are within 10 of the correct label. \n",
      "\n",
      "For k = 501, the RMSE is: 21.027.\n",
      "For k = 501 , 42.76% of predicted labels are within 10 of the correct label. \n",
      "\n"
     ]
    }
   ],
   "source": [
    "tol = 10\n",
    "\n",
    "def KNN(k_values):\n",
    "    for val in k_values:\n",
    "        KNN_model = KNeighborsRegressor(n_neighbors=val)\n",
    "        KNN_model.fit(train_array, train_labels)\n",
    "        test_predict = KNN_model.predict(test_array)\n",
    "        print(\"For k = \", val, \", the RMSE is: \", round(sqrt(mean_squared_error(test_labels, test_predict)),4), \".\", sep=\"\")\n",
    "        print(\"For k =\", val, \",\", \"{:.2%}\".format(proximity_score(test_labels, test_predict, tol)),\n",
    "              \"of predicted labels are within\", tol, \"of the correct label.\",\"\\n\")\n",
    "        \n",
    "k_values = [1, 5, 9, 11, 55, 175, 201, 301, 501]\n",
    "KNN(k_values)"
   ]
  },
  {
   "cell_type": "markdown",
   "metadata": {},
   "source": [
    "### We have thought about different ways to handle the many values at 100, but one way would be to ignore them during training. We will see whether that gives us a more accurate value here."
   ]
  },
  {
   "cell_type": "code",
   "execution_count": 52,
   "metadata": {},
   "outputs": [
    {
     "name": "stdout",
     "output_type": "stream",
     "text": [
      "For k = 1, the RMSE is: 26.2623.\n",
      "For k = 1 , 34.65% of predicted labels are within 10 of the correct label. \n",
      "\n",
      "For k = 5, the RMSE is: 19.8338.\n",
      "For k = 5 , 47.22% of predicted labels are within 10 of the correct label. \n",
      "\n",
      "For k = 9, the RMSE is: 18.1988.\n",
      "For k = 9 , 44.10% of predicted labels are within 10 of the correct label. \n",
      "\n",
      "For k = 11, the RMSE is: 18.1796.\n",
      "For k = 11 , 44.88% of predicted labels are within 10 of the correct label. \n",
      "\n",
      "For k = 55, the RMSE is: 17.9063.\n",
      "For k = 55 , 43.69% of predicted labels are within 10 of the correct label. \n",
      "\n",
      "For k = 175, the RMSE is: 17.8739.\n",
      "For k = 175 , 46.39% of predicted labels are within 10 of the correct label. \n",
      "\n",
      "For k = 201, the RMSE is: 17.8831.\n",
      "For k = 201 , 45.71% of predicted labels are within 10 of the correct label. \n",
      "\n",
      "For k = 301, the RMSE is: 17.8574.\n",
      "For k = 301 , 45.92% of predicted labels are within 10 of the correct label. \n",
      "\n",
      "For k = 501, the RMSE is: 17.8544.\n",
      "For k = 501 , 47.17% of predicted labels are within 10 of the correct label. \n",
      "\n"
     ]
    }
   ],
   "source": [
    "train_df_culled = train_df[train_df['Pawpularity'] != 100]\n",
    "Y = np.array(train_df_culled['Pawpularity'])\n",
    "X3 = np.array(train_df_culled)[:,1:13]\n",
    "\n",
    "train_array, test_array, train_labels, test_labels = train_test_split(X3, Y, test_size = .2, random_state = 7)\n",
    "\n",
    "tol = 10\n",
    "\n",
    "def KNN(k_values):\n",
    "    for val in k_values:\n",
    "        KNN_model = KNeighborsRegressor(n_neighbors=val)\n",
    "        KNN_model.fit(train_array, train_labels)\n",
    "        test_predict = KNN_model.predict(test_array)\n",
    "        print(\"For k = \", val, \", the RMSE is: \", round(sqrt(mean_squared_error(test_labels, test_predict)),4), \".\", sep=\"\")\n",
    "        print(\"For k =\", val, \",\", \"{:.2%}\".format(proximity_score(test_labels, test_predict, tol)),\n",
    "              \"of predicted labels are within\", tol, \"of the correct label.\",\"\\n\")\n",
    "        \n",
    "k_values = [1, 5, 9, 11, 55, 175, 201, 301, 501]\n",
    "KNN(k_values)"
   ]
  },
  {
   "cell_type": "markdown",
   "metadata": {},
   "source": [
    "### Indeed, omitting the 100s yielded better performance, therefore we will continue to do so."
   ]
  },
  {
   "cell_type": "markdown",
   "metadata": {},
   "source": [
    "### Linear Regression Model (tabular data)"
   ]
  },
  {
   "cell_type": "code",
   "execution_count": 25,
   "metadata": {},
   "outputs": [
    {
     "data": {
      "text/plain": [
       "(35.75923615569606,\n",
       " array([ 0.30661837, -1.89271815,  1.82476792,  0.10657321,  1.40827163,\n",
       "         1.22205893,  1.60987839,  0.0287796 ,  0.25298117,  0.22067164,\n",
       "         0.29551496, -2.76479873]))"
      ]
     },
     "execution_count": 25,
     "metadata": {},
     "output_type": "execute_result"
    }
   ],
   "source": [
    "lr_model = LinearRegression()\n",
    "lr_model.fit(train_array, train_labels)\n",
    "lr_model.intercept_, lr_model.coef_"
   ]
  },
  {
   "cell_type": "code",
   "execution_count": 26,
   "metadata": {},
   "outputs": [
    {
     "data": {
      "text/plain": [
       "0.002934269953138169"
      ]
     },
     "execution_count": 26,
     "metadata": {},
     "output_type": "execute_result"
    }
   ],
   "source": [
    "lr_model.score(test_array, test_labels)"
   ]
  },
  {
   "cell_type": "code",
   "execution_count": 27,
   "metadata": {},
   "outputs": [
    {
     "name": "stdout",
     "output_type": "stream",
     "text": [
      "LR RMSE is: 17.8485.\n",
      "47.27%  of the LR-predicted labels were within 10 of the correct label.\n"
     ]
    }
   ],
   "source": [
    "lr_predict_tab = lr_model.predict(test_array)\n",
    "print(\"LR RMSE is: \", round(sqrt(mean_squared_error(test_labels, lr_predict_tab)), 4), \".\", sep=\"\")\n",
    "print(\"{:.2%}\".format(proximity_score(test_labels, lr_predict_tab, tol)), \n",
    "      \" of the LR-predicted labels were within\", tol, \"of the correct label.\")"
   ]
  },
  {
   "cell_type": "markdown",
   "metadata": {},
   "source": [
    "### Despite what we anticipated to be poor predictive power of the tabular data, they performed, though not amazingly well, not horribly, and in fact outperformed the image data using linear regression (those models will be presented next)."
   ]
  },
  {
   "cell_type": "markdown",
   "metadata": {},
   "source": [
    "### Decision Trees (Tabular Data)"
   ]
  },
  {
   "cell_type": "code",
   "execution_count": 53,
   "metadata": {},
   "outputs": [
    {
     "name": "stdout",
     "output_type": "stream",
     "text": [
      "Decision Tree RMSE is: 17.9232.\n",
      "46.55% of predicted labels are within 10 of the correct label. \n",
      "\n"
     ]
    }
   ],
   "source": [
    "#create the Regressor\n",
    "tree_reg = DecisionTreeRegressor(max_depth = 3, min_samples_split = 10)\n",
    "\n",
    "#train the model and predict labels\n",
    "tree_reg.fit(train_array, train_labels)\n",
    "tree_reg_pred = tree_reg.predict(test_array)\n",
    "\n",
    "#print the RMSE and Proximity Scores\n",
    "tree_reg_RMSE = sqrt(mean_squared_error(test_labels, tree_reg_pred))\n",
    "print(\"Decision Tree RMSE is: \", round(tree_reg_RMSE,4), \".\", sep=\"\")\n",
    "print(\"{:.2%}\".format(proximity_score(test_labels, tree_reg_pred, tol)),\n",
    "              \"of predicted labels are within\", tol, \"of the correct label.\",\"\\n\")"
   ]
  },
  {
   "cell_type": "code",
   "execution_count": 54,
   "metadata": {},
   "outputs": [
    {
     "data": {
      "image/png": "[encoded data removed]",
      "text/plain": [
       "<Figure size 1800x720 with 1 Axes>"
      ]
     },
     "metadata": {
      "needs_background": "light"
     },
     "output_type": "display_data"
    }
   ],
   "source": [
    "#visualize the decision tree\n",
    "fig = plt.figure(figsize=(25,10))\n",
    "plot = tree.plot_tree(tree_reg, feature_names=train_df.columns.values.tolist()[1:13], filled=True)"
   ]
  },
  {
   "cell_type": "code",
   "execution_count": 55,
   "metadata": {},
   "outputs": [
    {
     "data": {
      "image/png": "[encoded data removed]",
      "text/plain": [
       "<Figure size 864x216 with 1 Axes>"
      ]
     },
     "metadata": {
      "needs_background": "light"
     },
     "output_type": "display_data"
    },
    {
     "data": {
      "image/png": "[encoded data removed]",
      "text/plain": [
       "<Figure size 864x216 with 1 Axes>"
      ]
     },
     "metadata": {
      "needs_background": "light"
     },
     "output_type": "display_data"
    },
    {
     "data": {
      "image/png": "[encoded data removed]",
      "text/plain": [
       "<Figure size 864x288 with 1 Axes>"
      ]
     },
     "metadata": {
      "needs_background": "light"
     },
     "output_type": "display_data"
    }
   ],
   "source": [
    "#let's see what our predictions look like vs the actual \n",
    "def ActualvPredictionsGraph(test_labels,y_pred,title):\n",
    "    if max(test_labels) >= max(y_pred):\n",
    "        my_range = int(max(test_labels))\n",
    "    else:\n",
    "        my_range = int(max(y_pred))\n",
    "    plt.figure(figsize=(12,3))\n",
    "    plt.scatter(range(len(test_labels)), test_labels, color='blue')\n",
    "    plt.scatter(range(len(y_pred)), y_pred, color='red')\n",
    "    plt.xlabel('Index ')\n",
    "    plt.ylabel('Pawpularity ')\n",
    "    plt.title(title,fontdict = {'fontsize' : 15})\n",
    "    plt.legend(handles = [mpatches.Patch(color='red', label='prediction'),mpatches.Patch(color='blue', label='actual')])\n",
    "    plt.show()\n",
    "    return\n",
    "\n",
    "#plot it\n",
    "ActualvPredictionsGraph(test_labels[0:50], tree_reg_pred[0:50], \"First 50 Actual v. Predicted\")\n",
    "ActualvPredictionsGraph(test_labels, tree_reg_pred, \"All Actual v. Predicted\")\n",
    "\n",
    "#plot actual v predicted in histogram form\n",
    "plt.figure(figsize=(12,4))\n",
    "sns.histplot(tree_reg_pred,color='r',alpha=0.3,stat='count', kde=True)\n",
    "sns.histplot(test_labels,color='b',alpha=0.3,stat='count', kde=True)\n",
    "plt.legend(labels=['prediction','actual'])\n",
    "plt.title('Actual v Predict Distribution')\n",
    "plt.show()"
   ]
  },
  {
   "cell_type": "markdown",
   "metadata": {},
   "source": [
    "### We observe our predictions are guessing near the mean, which doesn't align with the true shape of the scores distribution."
   ]
  },
  {
   "cell_type": "markdown",
   "metadata": {},
   "source": [
    "### Random Forest (Tabular Data)"
   ]
  },
  {
   "cell_type": "markdown",
   "metadata": {},
   "source": [
    "### We will explore if a random forest ensemble of 100 trees will help improve our model performance:"
   ]
  },
  {
   "cell_type": "code",
   "execution_count": 56,
   "metadata": {},
   "outputs": [
    {
     "name": "stdout",
     "output_type": "stream",
     "text": [
      "Random Forest RMSE is: 17.8531.\n",
      "46.81% of predicted labels are within 10 of the correct label. \n",
      "\n"
     ]
    }
   ],
   "source": [
    "#create the Random Forest ensemble\n",
    "RF_reg = RandomForestRegressor(n_estimators=100, max_depth=3)\n",
    "\n",
    "#train the model and predict labels\n",
    "RF_reg.fit(train_array, train_labels)\n",
    "RF_reg_pred = RF_reg.predict(test_array)\n",
    "\n",
    "#Print the RMSE and Proximity Scores\n",
    "RF_reg_RMSE = sqrt(mean_squared_error(test_labels, RF_reg_pred))\n",
    "print(\"Random Forest RMSE is: \", round(RF_reg_RMSE,4), \".\", sep=\"\")\n",
    "print(\"{:.2%}\".format(proximity_score(test_labels, RF_reg_pred, tol)),\n",
    "              \"of predicted labels are within\", tol, \"of the correct label.\",\"\\n\")"
   ]
  },
  {
   "cell_type": "code",
   "execution_count": 57,
   "metadata": {},
   "outputs": [
    {
     "data": {
      "image/png": "[encoded data removed]",
      "text/plain": [
       "<Figure size 864x216 with 1 Axes>"
      ]
     },
     "metadata": {
      "needs_background": "light"
     },
     "output_type": "display_data"
    },
    {
     "data": {
      "image/png": "[encoded data removed]",
      "text/plain": [
       "<Figure size 864x216 with 1 Axes>"
      ]
     },
     "metadata": {
      "needs_background": "light"
     },
     "output_type": "display_data"
    },
    {
     "data": {
      "image/png": "[encoded data removed]",
      "text/plain": [
       "<Figure size 864x288 with 1 Axes>"
      ]
     },
     "metadata": {
      "needs_background": "light"
     },
     "output_type": "display_data"
    }
   ],
   "source": [
    "#plot it\n",
    "ActualvPredictionsGraph(test_labels[0:50], RF_reg_pred[0:50], \"First 50 Actual v. Predicted\")\n",
    "ActualvPredictionsGraph(test_labels, RF_reg_pred, \"All Actual v. Predicted\")\n",
    "\n",
    "#plot actual v predicted in histogram form\n",
    "plt.figure(figsize=(12,4))\n",
    "sns.histplot(RF_reg_pred,color='r',alpha=0.3,stat='count',kde=True)\n",
    "sns.histplot(test_labels,color='b',alpha=0.3,stat='count', kde=True)\n",
    "plt.legend(labels=['prediction','actual'])\n",
    "plt.title('Actual v Predict Distribution')\n",
    "plt.show()"
   ]
  },
  {
   "cell_type": "markdown",
   "metadata": {},
   "source": [
    "### Using a random forest ensemble of decision trees does not largely improve our model. The model is still predicting near the mean and the distribution of scores still does not align."
   ]
  },
  {
   "cell_type": "markdown",
   "metadata": {},
   "source": [
    "### We have tested KNN Regression, Linear Regression, Decision Tree Regression, and a Random Forest Ensemble on the tabular data. Of the tested models, the Random Forest Ensemble has produced the lowest RMSE score. We will move on to explore the image pixel data separately."
   ]
  },
  {
   "cell_type": "markdown",
   "metadata": {},
   "source": [
    "### Part IV - Baseline Model with Image Pixel Data"
   ]
  },
  {
   "cell_type": "markdown",
   "metadata": {},
   "source": [
    "### Earlier, we loaded in all of the images, but we need to now exclude the outliers (Pawpularity = 100) as we did above."
   ]
  },
  {
   "cell_type": "code",
   "execution_count": 39,
   "metadata": {},
   "outputs": [],
   "source": [
    "## Process in the training and test data, including the bw 1-d train data for baseline\n",
    "\n",
    "train = pd.read_csv('./train.csv')\n",
    "train = train[train['Pawpularity'] != 100]\n",
    "test = pd.read_csv('./test.csv')\n",
    "\n",
    "def get_train_file_path(image_id):\n",
    "    return \"./train_resized/{}.jpg\".format(image_id)\n",
    "\n",
    "def get_train_bw_file_path(image_id):\n",
    "    return \"./train_resized_bw/{}.jpg\".format(image_id)\n",
    "\n",
    "def get_test_file_path(image_id):\n",
    "    return \"./test/{}.jpg\".format(image_id)\n",
    "\n",
    "train['file_path'] = train['Id'].apply(get_train_file_path)\n",
    "train['file_path_bw'] = train['Id'].apply(get_train_bw_file_path)\n",
    "test['file_path'] = test['Id'].apply(get_test_file_path)\n",
    "\n",
    "train_images = [cv2.imread(file) for file in train['file_path']]\n",
    "train_bw_images_1d = [cv2.imread(file, 0).flatten(order = 'C') for file in train['file_path_bw']] # 0 for grayscale, C for row-style flattening\n",
    "test_images = [cv2.imread(file) for file in test['file_path']]"
   ]
  },
  {
   "cell_type": "code",
   "execution_count": 42,
   "metadata": {},
   "outputs": [
    {
     "name": "stdout",
     "output_type": "stream",
     "text": [
      "7699\n",
      "7699\n",
      "(7699,)\n",
      "(1925, 90000)\n",
      "(1925,)\n"
     ]
    }
   ],
   "source": [
    "# split our new culled image data identically as before\n",
    "X4 = np.array(train_bw_images_1d)\n",
    "X4 = X / 255\n",
    "Y = np.array(train_df_culled['Pawpularity'])\n",
    "\n",
    "train_images, test_array, train_labels, test_labels = train_test_split(X4, Y, test_size = .2, random_state = 7)\n",
    "train_bw_images_1d, test_array, train_labels, test_labels = train_test_split(X4, Y, test_size = .2, random_state = 7)\n",
    "\n",
    "print(len(train_images))\n",
    "print(len(train_bw_images_1d))\n",
    "print(train_labels.shape)\n",
    "print(test_array.shape)\n",
    "print(test_labels.shape)"
   ]
  },
  {
   "cell_type": "markdown",
   "metadata": {},
   "source": [
    "### KNN Regression Model (grayscale image pixel data)"
   ]
  },
  {
   "cell_type": "code",
   "execution_count": 44,
   "metadata": {},
   "outputs": [
    {
     "name": "stdout",
     "output_type": "stream",
     "text": [
      "For k = 1, the RMSE is: 25.4409.\n",
      "For k = 1 , 37.77% of predicted labels are within 10 of the correct label. \n",
      "\n",
      "For k = 5, the RMSE is: 19.7311.\n",
      "For k = 5 , 42.34% of predicted labels are within 10 of the correct label. \n",
      "\n",
      "For k = 9, the RMSE is: 18.7708.\n",
      "For k = 9 , 44.26% of predicted labels are within 10 of the correct label. \n",
      "\n",
      "For k = 11, the RMSE is: 18.6631.\n",
      "For k = 11 , 44.42% of predicted labels are within 10 of the correct label. \n",
      "\n",
      "For k = 55, the RMSE is: 17.9159.\n",
      "For k = 55 , 47.69% of predicted labels are within 10 of the correct label. \n",
      "\n",
      "For k = 175, the RMSE is: 17.8637.\n",
      "For k = 175 , 47.69% of predicted labels are within 10 of the correct label. \n",
      "\n",
      "For k = 201, the RMSE is: 17.8642.\n",
      "For k = 201 , 47.58% of predicted labels are within 10 of the correct label. \n",
      "\n",
      "For k = 301, the RMSE is: 17.889.\n",
      "For k = 301 , 47.69% of predicted labels are within 10 of the correct label. \n",
      "\n",
      "For k = 501, the RMSE is: 17.8716.\n",
      "For k = 501 , 47.79% of predicted labels are within 10 of the correct label. \n",
      "\n"
     ]
    }
   ],
   "source": [
    "tol = 10\n",
    "\n",
    "def KNN(k_values):\n",
    "    for val in k_values:\n",
    "        KNN_model = KNeighborsRegressor(n_neighbors=val)\n",
    "        KNN_model.fit(train_bw_images_1d, train_labels)\n",
    "        test_predict = KNN_model.predict(test_array)\n",
    "        print(\"For k = \", val, \", the RMSE is: \", round(sqrt(mean_squared_error(test_labels, test_predict)),4), \".\", sep=\"\")\n",
    "        print(\"For k =\", val, \",\", \"{:.2%}\".format(proximity_score(test_labels, test_predict, tol)),\n",
    "              \"of predicted labels are within\", tol, \"of the correct label.\",\"\\n\")\n",
    "        \n",
    "k_values = [1, 5, 9, 11, 55, 175, 201, 301, 501]\n",
    "KNN(k_values)"
   ]
  },
  {
   "cell_type": "markdown",
   "metadata": {},
   "source": [
    "### We observe the KNN regression produces results roughly consistent with the tabular data, with best results around k=175."
   ]
  },
  {
   "cell_type": "markdown",
   "metadata": {},
   "source": [
    "### Linear Regression Model (grayscale image pixel data)"
   ]
  },
  {
   "cell_type": "code",
   "execution_count": 45,
   "metadata": {},
   "outputs": [
    {
     "data": {
      "text/plain": [
       "(32.778541463538915,\n",
       " array([-52.64005577, -76.73807322, -57.87729478, ...,  80.8790253 ,\n",
       "        121.75087479, 121.10937129]))"
      ]
     },
     "execution_count": 45,
     "metadata": {},
     "output_type": "execute_result"
    }
   ],
   "source": [
    "lr_model = LinearRegression()\n",
    "lr_model.fit(train_bw_images_1d, train_labels)\n",
    "lr_model.intercept_, lr_model.coef_"
   ]
  },
  {
   "cell_type": "code",
   "execution_count": 47,
   "metadata": {},
   "outputs": [
    {
     "data": {
      "text/plain": [
       "-1.2914734067775089"
      ]
     },
     "execution_count": 47,
     "metadata": {},
     "output_type": "execute_result"
    }
   ],
   "source": [
    "lr_model.score(test_array, test_labels)"
   ]
  },
  {
   "cell_type": "code",
   "execution_count": 49,
   "metadata": {},
   "outputs": [
    {
     "name": "stdout",
     "output_type": "stream",
     "text": [
      "LR RMSE is: 27.0581.\n",
      "28.83%  of the LR-predicted labels were within 10 of the correct label.\n"
     ]
    }
   ],
   "source": [
    "lr_predict = lr_model.predict(test_array)\n",
    "print(\"LR RMSE is: \", round(sqrt(mean_squared_error(test_labels, lr_predict)), 4), \".\", sep=\"\")\n",
    "print(\"{:.2%}\".format(proximity_score(test_labels, lr_predict, tol)), \n",
    "      \" of the LR-predicted labels were within\", tol, \"of the correct label.\")"
   ]
  },
  {
   "cell_type": "markdown",
   "metadata": {},
   "source": [
    "### For the pixel data, we can observe the linear regression model performs poorly compared to the KNN models. We achieve an RMSE score of 27.0581, much higher than any of the KNN models. Separately, we achieve a negative R squared score, which means the model's best-fit line fits worse than a horizontal line.\n",
    "\n",
    "### We tried combining the tabular and image data, but a naive average performed worse than the better of the two. In a way, this seems promising, because it shows they are performing better in distinct ways! We will look at more sophisticated ways to combine them as we move forward.\n",
    "\n",
    "### Based on these results, we will move forward with the KNN Regression with our baseline model using pixel data. The RMSE for our baseline model is 17.8637.\n",
    "\n",
    "### We will now be building a CNN model, which we hope will be able to better handle the complexity of the images and, in return, lower the RMSE.\n",
    "\n",
    "### Decision Tree Models were explored after establishing the baseline. The Random Forest Ensemble seems to outperform any model so far with a RMSE of 17.8531. While this is the lowest RMSE achieved, the model is still relying heavily on the score mean to make predictions. We will explore if a CNN Model is better able to predict scores without this reliance on the mean. It's possible that outside noise is driving the pet image clicks, and therefore scores, rather than pixel data or tabular data."
   ]
  },
  {
   "cell_type": "markdown",
   "metadata": {},
   "source": [
    "### CNN Pre-Processing"
   ]
  },
  {
   "cell_type": "code",
   "execution_count": 58,
   "metadata": {
    "execution": {
     "iopub.execute_input": "2021-11-30T23:31:55.729010Z",
     "iopub.status.busy": "2021-11-30T23:31:55.728756Z",
     "iopub.status.idle": "2021-11-30T23:31:55.737156Z",
     "shell.execute_reply": "2021-11-30T23:31:55.733726Z",
     "shell.execute_reply.started": "2021-11-30T23:31:55.728983Z"
    }
   },
   "outputs": [],
   "source": [
    "# Re-modifying the Id such that each Id is the full image path\n",
    "def train_id_to_path(x):\n",
    "    return './train/' + x + \".jpg\"\n",
    "def test_id_to_path(x):\n",
    "    return './test/' + x + \".jpg\""
   ]
  },
  {
   "cell_type": "code",
   "execution_count": 59,
   "metadata": {
    "execution": {
     "iopub.execute_input": "2021-11-30T23:31:57.904958Z",
     "iopub.status.busy": "2021-11-30T23:31:57.903993Z",
     "iopub.status.idle": "2021-11-30T23:31:57.937055Z",
     "shell.execute_reply": "2021-11-30T23:31:57.935961Z",
     "shell.execute_reply.started": "2021-11-30T23:31:57.904907Z"
    }
   },
   "outputs": [],
   "source": [
    "# Re-reading in the data and drop unnecessary columns\n",
    "train = pd.read_csv('./train.csv')\n",
    "train = train[train['Pawpularity'] != 100].reset_index()\n",
    "train = train.drop(['Subject Focus', 'Eyes', 'Face', 'Near', 'Action', 'Accessory', 'Group', 'Collage', 'Human', 'Occlusion', 'Info', 'Blur'],axis=1)\n",
    "\n",
    "test = pd.read_csv('./test.csv')\n",
    "test = test.drop(['Subject Focus', 'Eyes', 'Face', 'Near', 'Action', 'Accessory', 'Group', 'Collage', 'Human', 'Occlusion', 'Info', 'Blur'],axis=1)"
   ]
  },
  {
   "cell_type": "code",
   "execution_count": 60,
   "metadata": {
    "execution": {
     "iopub.execute_input": "2021-11-30T23:32:00.719042Z",
     "iopub.status.busy": "2021-11-30T23:32:00.718444Z",
     "iopub.status.idle": "2021-11-30T23:32:00.730125Z",
     "shell.execute_reply": "2021-11-30T23:32:00.728972Z",
     "shell.execute_reply.started": "2021-11-30T23:32:00.719010Z"
    }
   },
   "outputs": [],
   "source": [
    "# Adding the .jpg extensions to the image file name ids\n",
    "train[\"img_path\"] = train[\"Id\"].apply(train_id_to_path)\n",
    "test[\"img_path\"] = test[\"Id\"].apply(test_id_to_path)"
   ]
  },
  {
   "cell_type": "code",
   "execution_count": 61,
   "metadata": {
    "execution": {
     "iopub.execute_input": "2021-11-30T23:32:07.760811Z",
     "iopub.status.busy": "2021-11-30T23:32:07.760434Z",
     "iopub.status.idle": "2021-11-30T23:32:07.768848Z",
     "shell.execute_reply": "2021-11-30T23:32:07.766941Z",
     "shell.execute_reply.started": "2021-11-30T23:32:07.760781Z"
    }
   },
   "outputs": [],
   "source": [
    "# Set the size image (constraining to square)\n",
    "image_dim = 128\n",
    "\n",
    "# Define a function that accepts an image url and outputs an eager tensor\n",
    "def path_to_eagertensor(image_path, image_dim):\n",
    "    raw = tf.io.read_file(image_path)\n",
    "    image = tf.image.decode_jpeg(raw, channels=3)\n",
    "    image = tf.cast(image, tf.float32) / 255.0\n",
    "    image = tf.image.resize(image, (image_dim, image_dim))\n",
    "    return image"
   ]
  },
  {
   "cell_type": "code",
   "execution_count": 62,
   "metadata": {
    "execution": {
     "iopub.execute_input": "2021-11-30T23:30:10.231793Z",
     "iopub.status.busy": "2021-11-30T23:30:10.231395Z",
     "iopub.status.idle": "2021-11-30T23:31:52.059005Z",
     "shell.execute_reply": "2021-11-30T23:31:52.056806Z",
     "shell.execute_reply.started": "2021-11-30T23:30:10.231764Z"
    }
   },
   "outputs": [
    {
     "data": {
      "application/vnd.jupyter.widget-view+json": {
       "model_id": "45463013bb204ea5a5b1e1b408b75a32",
       "version_major": 2,
       "version_minor": 0
      },
      "text/plain": [
       "  0%|          | 0/9624 [00:00<?, ?it/s]"
      ]
     },
     "metadata": {},
     "output_type": "display_data"
    },
    {
     "name": "stdout",
     "output_type": "stream",
     "text": [
      "<class 'numpy.ndarray'> (9624, 128, 128, 3)\n"
     ]
    }
   ],
   "source": [
    "# Obtain all images in the training folder and put their tensors in a list\n",
    "def build_tensor_list(image_dim):\n",
    "    X = []\n",
    "    for img in tqdm(train['img_path']):\n",
    "        new_img_tensor = path_to_eagertensor(img, image_dim)\n",
    "        X.append(new_img_tensor)\n",
    "    X = np.array(X)\n",
    "    return X\n",
    "    \n",
    "X = build_tensor_list(image_dim)\n",
    "    \n",
    "print(type(X),X.shape)"
   ]
  },
  {
   "cell_type": "code",
   "execution_count": 63,
   "metadata": {
    "execution": {
     "iopub.execute_input": "2021-11-30T23:32:30.632155Z",
     "iopub.status.busy": "2021-11-30T23:32:30.631784Z",
     "iopub.status.idle": "2021-11-30T23:32:30.638135Z",
     "shell.execute_reply": "2021-11-30T23:32:30.637015Z",
     "shell.execute_reply.started": "2021-11-30T23:32:30.632124Z"
    }
   },
   "outputs": [],
   "source": [
    "# Setting our train target y to be the Pawpularity score\n",
    "Y = train['Pawpularity']"
   ]
  },
  {
   "cell_type": "code",
   "execution_count": 64,
   "metadata": {},
   "outputs": [
    {
     "name": "stdout",
     "output_type": "stream",
     "text": [
      "Training shape: (7699, 128, 128, 3) (7699,)\n",
      "Dev shape: (962, 128, 128, 3) (962,)\n",
      "Test shape: (963, 128, 128, 3) (963,)\n"
     ]
    }
   ],
   "source": [
    "# divide into train/dev/test sets\n",
    "\n",
    "train_array, rem_array, train_labels, rem_labels = train_test_split(X, Y, train_size = .8, random_state = 7)\n",
    "dev_array, test_array, dev_labels, test_labels = train_test_split(rem_array, rem_labels, train_size = .5, random_state = 7)\n",
    "\n",
    "print(\"Training shape:\", (train_array.shape), (train_labels.shape))\n",
    "print(\"Dev shape:\", (dev_array.shape), (dev_labels.shape))\n",
    "print(\"Test shape:\", (test_array.shape), (test_labels.shape))"
   ]
  },
  {
   "cell_type": "markdown",
   "metadata": {},
   "source": [
    "### CNN Model"
   ]
  },
  {
   "cell_type": "code",
   "execution_count": 30,
   "metadata": {
    "execution": {
     "iopub.execute_input": "2021-11-30T23:34:44.580533Z",
     "iopub.status.busy": "2021-11-30T23:34:44.580227Z",
     "iopub.status.idle": "2021-11-30T23:34:44.598903Z",
     "shell.execute_reply": "2021-11-30T23:34:44.597833Z",
     "shell.execute_reply.started": "2021-11-30T23:34:44.580495Z"
    }
   },
   "outputs": [],
   "source": [
    "def get_model(SEED=7):\n",
    "    tf.keras.backend.clear_session()\n",
    "    np.random.seed(SEED)\n",
    "    tf.random.set_seed(SEED)\n",
    "    \n",
    "    input_ = keras.Input(shape=(X.shape[1],X.shape[2],3))\n",
    "\n",
    "    x = keras.layers.Conv2D(filters = 16, kernel_size=7, strides=2, padding='valid', kernel_initializer='he_normal',\n",
    "                           kernel_regularizer=l2(0.0005), activation = 'relu')(input_)\n",
    "\n",
    "    x = keras.layers.Conv2D(filters = 32, kernel_size=3, padding='same', kernel_initializer='he_normal',\n",
    "                           activation = 'relu')(x)\n",
    "\n",
    "    x = keras.layers.BatchNormalization()(x)\n",
    "\n",
    "    x = keras.layers.Conv2D(filters = 32, kernel_size=3,strides=2, padding='same', kernel_initializer='he_normal',\n",
    "                           activation = 'relu', kernel_regularizer=l2(0.0005))(x)\n",
    "\n",
    "    x = keras.layers.BatchNormalization()(x)\n",
    "\n",
    "    x = keras.layers.Dropout(0.25)(x)\n",
    "\n",
    "    x = keras.layers.Conv2D(filters = 64, kernel_size=3, padding='same', kernel_initializer='he_normal', activation='relu'\n",
    "                            ,kernel_regularizer=l2(0.0002))(x)\n",
    "\n",
    "    x = keras.layers.BatchNormalization()(x)\n",
    "\n",
    "    x = keras.layers.Conv2D(filters = 64, kernel_size = 3, strides = 2, padding='same',\n",
    "                               kernel_initializer='he_normal', kernel_regularizer=l2(0.0005), activation = 'relu')(x)\n",
    "\n",
    "    x = keras.layers.BatchNormalization()(x)\n",
    "\n",
    "    x = keras.layers.Dropout(0.25)(x)\n",
    "\n",
    "    #####\n",
    "    x = keras.layers.Conv2D(filters = 128, kernel_size = 3, padding='same', kernel_initializer='he_normal', kernel_regularizer=l2(0.0002), activation = 'relu')(x)\n",
    "\n",
    "    x = keras.layers.BatchNormalization()(x)\n",
    "\n",
    "    x = keras.layers.MaxPooling2D(pool_size=(2, 2))(x)\n",
    "\n",
    "    x = keras.layers.Conv2D(filters = 128, kernel_size = 3,padding='same', kernel_initializer='he_normal', kernel_regularizer=l2(0.0002), activation = 'relu')(x)\n",
    "\n",
    "    x = keras.layers.BatchNormalization()(x)\n",
    "\n",
    "    x = keras.layers.Dropout(0.25)(x)\n",
    "\n",
    "    x = keras.layers.Flatten()(x)\n",
    "\n",
    "    x = keras.layers.Dense(512, activation = \"relu\")(x)\n",
    "\n",
    "    x = keras.layers.Dropout(0.5)(x)\n",
    "\n",
    "    output = keras.layers.Dense(1)(x)\n",
    "\n",
    "    model = keras.Model(inputs = input_, outputs = output)\n",
    "    \n",
    "    return model"
   ]
  },
  {
   "cell_type": "code",
   "execution_count": 31,
   "metadata": {},
   "outputs": [
    {
     "name": "stdout",
     "output_type": "stream",
     "text": [
      "Model: \"model\"\n",
      "_________________________________________________________________\n",
      "Layer (type)                 Output Shape              Param #   \n",
      "=================================================================\n",
      "input_1 (InputLayer)         [(None, 128, 128, 3)]     0         \n",
      "_________________________________________________________________\n",
      "conv2d (Conv2D)              (None, 61, 61, 16)        2368      \n",
      "_________________________________________________________________\n",
      "conv2d_1 (Conv2D)            (None, 61, 61, 32)        4640      \n",
      "_________________________________________________________________\n",
      "batch_normalization (BatchNo (None, 61, 61, 32)        128       \n",
      "_________________________________________________________________\n",
      "conv2d_2 (Conv2D)            (None, 31, 31, 32)        9248      \n",
      "_________________________________________________________________\n",
      "batch_normalization_1 (Batch (None, 31, 31, 32)        128       \n",
      "_________________________________________________________________\n",
      "dropout (Dropout)            (None, 31, 31, 32)        0         \n",
      "_________________________________________________________________\n",
      "conv2d_3 (Conv2D)            (None, 31, 31, 64)        18496     \n",
      "_________________________________________________________________\n",
      "batch_normalization_2 (Batch (None, 31, 31, 64)        256       \n",
      "_________________________________________________________________\n",
      "conv2d_4 (Conv2D)            (None, 16, 16, 64)        36928     \n",
      "_________________________________________________________________\n",
      "batch_normalization_3 (Batch (None, 16, 16, 64)        256       \n",
      "_________________________________________________________________\n",
      "dropout_1 (Dropout)          (None, 16, 16, 64)        0         \n",
      "_________________________________________________________________\n",
      "conv2d_5 (Conv2D)            (None, 16, 16, 128)       73856     \n",
      "_________________________________________________________________\n",
      "batch_normalization_4 (Batch (None, 16, 16, 128)       512       \n",
      "_________________________________________________________________\n",
      "max_pooling2d (MaxPooling2D) (None, 8, 8, 128)         0         \n",
      "_________________________________________________________________\n",
      "conv2d_6 (Conv2D)            (None, 8, 8, 128)         147584    \n",
      "_________________________________________________________________\n",
      "batch_normalization_5 (Batch (None, 8, 8, 128)         512       \n",
      "_________________________________________________________________\n",
      "dropout_2 (Dropout)          (None, 8, 8, 128)         0         \n",
      "_________________________________________________________________\n",
      "flatten (Flatten)            (None, 8192)              0         \n",
      "_________________________________________________________________\n",
      "dense (Dense)                (None, 512)               4194816   \n",
      "_________________________________________________________________\n",
      "dropout_3 (Dropout)          (None, 512)               0         \n",
      "_________________________________________________________________\n",
      "dense_1 (Dense)              (None, 1)                 513       \n",
      "=================================================================\n",
      "Total params: 4,490,241\n",
      "Trainable params: 4,489,345\n",
      "Non-trainable params: 896\n",
      "_________________________________________________________________\n"
     ]
    }
   ],
   "source": [
    "model = get_model()\n",
    "model.summary()"
   ]
  },
  {
   "cell_type": "code",
   "execution_count": 14,
   "metadata": {
    "execution": {
     "iopub.execute_input": "2021-11-22T07:27:43.951549Z",
     "iopub.status.busy": "2021-11-22T07:27:43.951267Z",
     "iopub.status.idle": "2021-11-22T07:27:43.970227Z",
     "shell.execute_reply": "2021-11-22T07:27:43.969418Z",
     "shell.execute_reply.started": "2021-11-22T07:27:43.951514Z"
    }
   },
   "outputs": [],
   "source": [
    "#compile the model\n",
    "model.compile(\n",
    "    loss = 'mse', \n",
    "    optimizer = 'Adam', \n",
    "    metrics = [tf.keras.metrics.RootMeanSquaredError(name=\"rmse\")])"
   ]
  },
  {
   "cell_type": "code",
   "execution_count": 15,
   "metadata": {
    "execution": {
     "iopub.execute_input": "2021-11-22T07:27:44.566018Z",
     "iopub.status.busy": "2021-11-22T07:27:44.565646Z",
     "iopub.status.idle": "2021-11-22T07:27:44.576725Z",
     "shell.execute_reply": "2021-11-22T07:27:44.575708Z",
     "shell.execute_reply.started": "2021-11-22T07:27:44.565974Z"
    }
   },
   "outputs": [],
   "source": [
    "data_augmentation = ImageDataGenerator(rotation_range=40, zoom_range=0.3, width_shift_range = 0.3, \n",
    "    height_shift_range = 0.3, \n",
    "    shear_range = 0.3,\n",
    "    horizontal_flip = True, \n",
    "    fill_mode = \"nearest\")"
   ]
  },
  {
   "cell_type": "code",
   "execution_count": 16,
   "metadata": {
    "execution": {
     "iopub.execute_input": "2021-11-22T07:27:45.394679Z",
     "iopub.status.busy": "2021-11-22T07:27:45.394395Z"
    }
   },
   "outputs": [
    {
     "name": "stdout",
     "output_type": "stream",
     "text": [
      "Epoch 1/600\n",
      "7/7 [==============================] - 5s 268ms/step - loss: 856.8936 - rmse: 29.2686 - val_loss: 1953.3464 - val_rmse: 44.1940\n",
      "Epoch 2/600\n",
      "7/7 [==============================] - 2s 264ms/step - loss: 491.9645 - rmse: 22.1748 - val_loss: 1220.8478 - val_rmse: 34.9372\n",
      "Epoch 3/600\n",
      "7/7 [==============================] - 2s 261ms/step - loss: 544.1297 - rmse: 23.3214 - val_loss: 1415.3662 - val_rmse: 37.6181\n",
      "Epoch 4/600\n",
      "7/7 [==============================] - 2s 260ms/step - loss: 521.8589 - rmse: 22.8389 - val_loss: 1376.0470 - val_rmse: 37.0918\n",
      "Epoch 5/600\n",
      "7/7 [==============================] - 2s 260ms/step - loss: 475.1339 - rmse: 21.7920 - val_loss: 1276.6667 - val_rmse: 35.7271\n",
      "Epoch 6/600\n",
      "7/7 [==============================] - 2s 265ms/step - loss: 454.4641 - rmse: 21.3125 - val_loss: 773.3924 - val_rmse: 27.8056\n",
      "Epoch 7/600\n",
      "7/7 [==============================] - 2s 264ms/step - loss: 491.4781 - rmse: 22.1638 - val_loss: 885.9481 - val_rmse: 29.7608\n",
      "Epoch 8/600\n",
      "7/7 [==============================] - 2s 259ms/step - loss: 451.8744 - rmse: 21.2516 - val_loss: 1154.7950 - val_rmse: 33.9787\n",
      "Epoch 9/600\n",
      "7/7 [==============================] - 2s 259ms/step - loss: 483.6253 - rmse: 21.9859 - val_loss: 989.5247 - val_rmse: 31.4528\n",
      "Epoch 10/600\n",
      "7/7 [==============================] - 2s 259ms/step - loss: 434.1465 - rmse: 20.8303 - val_loss: 1216.4967 - val_rmse: 34.8748\n",
      "Epoch 11/600\n",
      "7/7 [==============================] - 2s 262ms/step - loss: 512.7498 - rmse: 22.6386 - val_loss: 746.9642 - val_rmse: 27.3262\n",
      "Epoch 12/600\n",
      "7/7 [==============================] - 2s 257ms/step - loss: 492.0874 - rmse: 22.1775 - val_loss: 644.3843 - val_rmse: 25.3799\n",
      "Epoch 13/600\n",
      "7/7 [==============================] - 2s 260ms/step - loss: 454.2515 - rmse: 21.3074 - val_loss: 945.7709 - val_rmse: 30.7494\n",
      "Epoch 14/600\n",
      "7/7 [==============================] - 2s 260ms/step - loss: 448.0205 - rmse: 21.1607 - val_loss: 806.9628 - val_rmse: 28.4028\n",
      "Epoch 15/600\n",
      "7/7 [==============================] - 2s 260ms/step - loss: 463.2603 - rmse: 21.5178 - val_loss: 648.9286 - val_rmse: 25.4692\n",
      "Epoch 16/600\n",
      "7/7 [==============================] - 2s 265ms/step - loss: 439.5370 - rmse: 20.9592 - val_loss: 713.2274 - val_rmse: 26.7017\n",
      "Epoch 17/600\n",
      "7/7 [==============================] - 2s 265ms/step - loss: 441.0684 - rmse: 20.9957 - val_loss: 654.2294 - val_rmse: 25.5731\n",
      "Epoch 18/600\n",
      "7/7 [==============================] - 2s 257ms/step - loss: 467.8625 - rmse: 21.6244 - val_loss: 660.0932 - val_rmse: 25.6875\n",
      "Epoch 19/600\n",
      "7/7 [==============================] - 2s 257ms/step - loss: 450.4036 - rmse: 21.2169 - val_loss: 600.3122 - val_rmse: 24.4962\n",
      "Epoch 20/600\n",
      "7/7 [==============================] - 2s 257ms/step - loss: 488.2678 - rmse: 22.0912 - val_loss: 540.4521 - val_rmse: 23.2423\n",
      "Epoch 21/600\n",
      "7/7 [==============================] - 2s 259ms/step - loss: 442.1341 - rmse: 21.0211 - val_loss: 701.6520 - val_rmse: 26.4840\n",
      "Epoch 22/600\n",
      "7/7 [==============================] - 2s 292ms/step - loss: 488.2516 - rmse: 22.0908 - val_loss: 580.4508 - val_rmse: 24.0874\n",
      "Epoch 23/600\n",
      "7/7 [==============================] - 2s 258ms/step - loss: 437.6316 - rmse: 20.9137 - val_loss: 567.9006 - val_rmse: 23.8254\n",
      "Epoch 24/600\n",
      "7/7 [==============================] - 2s 254ms/step - loss: 499.3253 - rmse: 22.3400 - val_loss: 567.7260 - val_rmse: 23.8218\n",
      "Epoch 25/600\n",
      "7/7 [==============================] - 2s 261ms/step - loss: 452.8754 - rmse: 21.2750 - val_loss: 549.5629 - val_rmse: 23.4374\n",
      "Epoch 26/600\n",
      "7/7 [==============================] - 2s 258ms/step - loss: 494.9401 - rmse: 22.2416 - val_loss: 578.5596 - val_rmse: 24.0481\n",
      "Epoch 27/600\n",
      "7/7 [==============================] - 2s 260ms/step - loss: 463.6646 - rmse: 21.5271 - val_loss: 544.1202 - val_rmse: 23.3210\n",
      "Epoch 28/600\n",
      "7/7 [==============================] - 2s 265ms/step - loss: 481.9708 - rmse: 21.9481 - val_loss: 532.4037 - val_rmse: 23.0684\n",
      "Epoch 29/600\n",
      "7/7 [==============================] - 2s 266ms/step - loss: 430.7772 - rmse: 20.7491 - val_loss: 492.8635 - val_rmse: 22.1949\n",
      "Epoch 30/600\n",
      "7/7 [==============================] - 2s 258ms/step - loss: 501.9403 - rmse: 22.3984 - val_loss: 490.0147 - val_rmse: 22.1306\n",
      "Epoch 31/600\n",
      "7/7 [==============================] - 2s 262ms/step - loss: 485.9678 - rmse: 22.0390 - val_loss: 521.2342 - val_rmse: 22.8251\n",
      "Epoch 32/600\n",
      "7/7 [==============================] - 2s 259ms/step - loss: 422.3169 - rmse: 20.5442 - val_loss: 514.0463 - val_rmse: 22.6670\n",
      "Epoch 33/600\n",
      "7/7 [==============================] - 2s 261ms/step - loss: 456.6532 - rmse: 21.3636 - val_loss: 535.4587 - val_rmse: 23.1345\n",
      "Epoch 34/600\n",
      "7/7 [==============================] - 2s 258ms/step - loss: 479.3858 - rmse: 21.8891 - val_loss: 473.1628 - val_rmse: 21.7465\n",
      "Epoch 35/600\n",
      "7/7 [==============================] - 2s 353ms/step - loss: 445.3003 - rmse: 21.0962 - val_loss: 514.9324 - val_rmse: 22.6866\n",
      "Epoch 36/600\n",
      "7/7 [==============================] - 2s 259ms/step - loss: 426.8572 - rmse: 20.6544 - val_loss: 510.0445 - val_rmse: 22.5786\n",
      "Epoch 37/600\n",
      "7/7 [==============================] - 2s 259ms/step - loss: 456.6107 - rmse: 21.3625 - val_loss: 504.6628 - val_rmse: 22.4591\n",
      "Epoch 38/600\n",
      "7/7 [==============================] - 2s 260ms/step - loss: 469.2730 - rmse: 21.6569 - val_loss: 503.9777 - val_rmse: 22.4438\n",
      "Epoch 39/600\n",
      "7/7 [==============================] - 2s 256ms/step - loss: 439.7227 - rmse: 20.9635 - val_loss: 469.9612 - val_rmse: 21.6728\n",
      "Epoch 40/600\n",
      "7/7 [==============================] - 2s 261ms/step - loss: 529.0181 - rmse: 22.9949 - val_loss: 465.8258 - val_rmse: 21.5771\n",
      "Epoch 41/600\n",
      "7/7 [==============================] - 2s 259ms/step - loss: 455.4453 - rmse: 21.3352 - val_loss: 457.0081 - val_rmse: 21.3718\n",
      "Epoch 42/600\n",
      "7/7 [==============================] - 2s 259ms/step - loss: 459.5315 - rmse: 21.4308 - val_loss: 551.4363 - val_rmse: 23.4773\n",
      "Epoch 43/600\n",
      "7/7 [==============================] - 2s 256ms/step - loss: 445.6282 - rmse: 21.1039 - val_loss: 468.3052 - val_rmse: 21.6345\n",
      "Epoch 44/600\n",
      "7/7 [==============================] - 2s 260ms/step - loss: 462.2027 - rmse: 21.4930 - val_loss: 522.2014 - val_rmse: 22.8462\n",
      "Epoch 45/600\n",
      "7/7 [==============================] - 2s 266ms/step - loss: 404.4912 - rmse: 20.1056 - val_loss: 463.0395 - val_rmse: 21.5124\n",
      "Epoch 46/600\n",
      "7/7 [==============================] - 2s 260ms/step - loss: 468.2921 - rmse: 21.6342 - val_loss: 440.4045 - val_rmse: 20.9798\n",
      "Epoch 47/600\n",
      "7/7 [==============================] - 2s 266ms/step - loss: 459.5707 - rmse: 21.4317 - val_loss: 444.4807 - val_rmse: 21.0767\n",
      "Epoch 48/600\n",
      "7/7 [==============================] - 2s 257ms/step - loss: 491.9937 - rmse: 22.1752 - val_loss: 450.5703 - val_rmse: 21.2206\n",
      "Epoch 49/600\n",
      "7/7 [==============================] - 2s 263ms/step - loss: 461.2434 - rmse: 21.4706 - val_loss: 443.2085 - val_rmse: 21.0465\n",
      "Epoch 50/600\n",
      "7/7 [==============================] - 2s 259ms/step - loss: 526.0985 - rmse: 22.9313 - val_loss: 440.6357 - val_rmse: 20.9852\n",
      "Epoch 51/600\n",
      "7/7 [==============================] - 2s 260ms/step - loss: 417.6658 - rmse: 20.4306 - val_loss: 448.2185 - val_rmse: 21.1651\n",
      "Epoch 52/600\n",
      "7/7 [==============================] - 2s 257ms/step - loss: 436.5070 - rmse: 20.8866 - val_loss: 441.9120 - val_rmse: 21.0156\n",
      "Epoch 53/600\n",
      "7/7 [==============================] - 2s 261ms/step - loss: 468.3088 - rmse: 21.6345 - val_loss: 473.9883 - val_rmse: 21.7654\n",
      "Epoch 54/600\n",
      "7/7 [==============================] - 2s 259ms/step - loss: 415.6436 - rmse: 20.3811 - val_loss: 460.8025 - val_rmse: 21.4604\n",
      "Epoch 55/600\n",
      "7/7 [==============================] - 2s 266ms/step - loss: 437.4222 - rmse: 20.9085 - val_loss: 448.1077 - val_rmse: 21.1625\n",
      "Epoch 56/600\n",
      "7/7 [==============================] - 2s 256ms/step - loss: 459.1359 - rmse: 21.4215 - val_loss: 455.8043 - val_rmse: 21.3436\n"
     ]
    }
   ],
   "source": [
    "kall = keras.callbacks.EarlyStopping(monitor='val_rmse',patience=10,restore_best_weights=True)\n",
    "\n",
    "history = model.fit(\n",
    "    data_augmentation.flow(train_array,train_labels,batch_size=128),\n",
    "    validation_data = (test_array,test_labels),\n",
    "    steps_per_epoch = len(train_array) // 1024,\n",
    "    epochs = 600, callbacks=[kall]\n",
    ")"
   ]
  },
  {
   "cell_type": "code",
   "execution_count": 17,
   "metadata": {},
   "outputs": [
    {
     "data": {
      "image/png": "[encoded data removed]",
      "text/plain": [
       "<Figure size 432x288 with 1 Axes>"
      ]
     },
     "metadata": {
      "needs_background": "light"
     },
     "output_type": "display_data"
    }
   ],
   "source": [
    "plt.figure()\n",
    "plt.plot(history.history[\"rmse\"], label=\"train_rmse\")\n",
    "plt.plot(history.history[\"val_rmse\"], label=\"val_rmse\")\n",
    "plt.title(\"RMSE train/validation by Epoch\")\n",
    "plt.xlabel(\"Epoch #\")\n",
    "plt.ylabel(\"RMSE\")\n",
    "plt.legend(loc=\"upper right\");"
   ]
  },
  {
   "cell_type": "code",
   "execution_count": 142,
   "metadata": {},
   "outputs": [
    {
     "name": "stdout",
     "output_type": "stream",
     "text": [
      "(8, 256, 256, 3) <class 'numpy.ndarray'>\n",
      "(8, 1) <class 'numpy.ndarray'>\n"
     ]
    }
   ],
   "source": [
    "# Predict on the submission data\n",
    "cnn_pred = model.predict(X_submission)\n",
    "print(X_submission.shape, type(X_submission))\n",
    "print(cnn_pred.shape, type(cnn_pred))"
   ]
  },
  {
   "cell_type": "markdown",
   "metadata": {},
   "source": [
    "### So our first-draft model works, though not significantly better than previous attempts. In order to improve performance, we will work on tuning hyperparameters. In this case, these fall into several categories: input image size, model parameters (dropout, layer structure, number of filters, kernel size), and augmentation settings (rotation range, zoom range, width/height shift range)."
   ]
  },
  {
   "cell_type": "markdown",
   "metadata": {},
   "source": [
    "### Because the number of filters and kernel size are not independent from the image size, these will be tuned with many combinations. However, augmentation settings should be largely independent and will be tuned separately."
   ]
  },
  {
   "cell_type": "markdown",
   "metadata": {},
   "source": [
    "### First, we will set up helper functions to make things easier/more readable. Then we will iterate through hyperparameters to improve the model's performance. (Quick note: even with pre-set random states, the training can occasionally result in different values than were previously obtained, so the markup cells will contain the best result from when we ran this, but they won't necessarily be the best in your run, especially if they are close)."
   ]
  },
  {
   "cell_type": "code",
   "execution_count": 65,
   "metadata": {},
   "outputs": [],
   "source": [
    "# Define a function that accepts an image url and outputs an eager tensor\n",
    "def path_to_eagertensor(image_path, image_dim, pad):\n",
    "    raw = tf.io.read_file(image_path)\n",
    "    image = tf.image.decode_jpeg(raw, channels=3)\n",
    "    image = tf.cast(image, tf.float32) / 255.0\n",
    "    if pad == 1:\n",
    "        image = tf.image.resize_with_pad(image, image_dim, image_dim)\n",
    "    else:\n",
    "        image = tf.image.resize(image, (image_dim, image_dim))\n",
    "    return image\n",
    "\n",
    "def build_tensor_list(image_dim, pad):\n",
    "    X = []\n",
    "    for img in tqdm(train['img_path']):\n",
    "        new_img_tensor = path_to_eagertensor(img, image_dim, pad)\n",
    "        X.append(new_img_tensor)\n",
    "    X = np.array(X)\n",
    "    return X\n",
    "\n",
    "def configure_datasets(image_dim, pad=0): \n",
    "    X = build_tensor_list(image_dim, pad)\n",
    "    Y = train['Pawpularity']\n",
    "    train_array, rem_array, train_labels, rem_labels = train_test_split(X, Y, train_size = .8, random_state = 7)\n",
    "    dev_array, test_array, dev_labels, test_labels = train_test_split(rem_array, rem_labels, train_size = .5, random_state = 7)\n",
    "    return X, Y, train_array, train_labels, test_array, test_labels, dev_array, dev_labels\n",
    "    \n",
    "def get_model(SEED=7, mid_drop=0.25, n_filter_factor=16, kernel_size_factor=32, layer_sets=4, image_dim=128, dense=512):\n",
    "    tf.keras.backend.clear_session()\n",
    "    np.random.seed(SEED)\n",
    "    tf.random.set_seed(SEED)\n",
    "    n_filters = image_dim/(n_filter_factor)\n",
    "    k_l = int(round(image_dim/(kernel_size_factor), 0)) # (kernel \"large\")\n",
    "    k_s = max(int(round(k_l/2, 0)),1) # (kernel \"small\")\n",
    "    \n",
    "    input_ = keras.Input(shape=(X.shape[1],X.shape[2],3))\n",
    "\n",
    "    x = keras.layers.Conv2D(filters = n_filters, kernel_size=k_l, strides=[2,2], padding='valid', kernel_initializer='he_normal',\n",
    "                           kernel_regularizer=l2(0.0005), activation = 'relu')(input_)\n",
    "    x = keras.layers.Conv2D(filters = 2*n_filters, kernel_size=k_s, padding='same', kernel_initializer='he_normal',\n",
    "                           activation = 'relu')(x)\n",
    "    x = keras.layers.BatchNormalization()(x)\n",
    "    x = keras.layers.Conv2D(filters = 2*n_filters, kernel_size=k_s,strides=[2,2], padding='same', kernel_initializer='he_normal',\n",
    "                           activation = 'relu', kernel_regularizer=l2(0.0005))(x)\n",
    "    x = keras.layers.BatchNormalization()(x)\n",
    "    \n",
    "    x = keras.layers.Dropout(mid_drop)(x)\n",
    "    \n",
    "    x = keras.layers.Conv2D(filters = 4*n_filters, kernel_size=k_s, padding='same', kernel_initializer='he_normal', \n",
    "                            activation='relu', kernel_regularizer=l2(0.0002))(x)\n",
    "\n",
    "    x = keras.layers.BatchNormalization()(x)\n",
    "\n",
    "    x = keras.layers.Conv2D(filters = 4*n_filters, kernel_size=k_s, padding='same', kernel_initializer='he_normal', \n",
    "                            activation='relu', kernel_regularizer=l2(0.0002))(x)\n",
    "\n",
    "    x = keras.layers.BatchNormalization()(x)\n",
    "\n",
    "    x = keras.layers.Dropout(mid_drop)(x)\n",
    "\n",
    "    x = keras.layers.Conv2D(filters = 8*n_filters, kernel_size=k_s, padding='same', kernel_initializer='he_normal', \n",
    "                            activation='relu', kernel_regularizer=l2(0.0002))(x)\n",
    "\n",
    "    x = keras.layers.BatchNormalization()(x)\n",
    "\n",
    "    x = keras.layers.MaxPooling2D(pool_size=k_s)(x)\n",
    "\n",
    "    x = keras.layers.Conv2D(filters = 8*n_filters, kernel_size=k_s, padding='same', kernel_initializer='he_normal', \n",
    "                            activation='relu', kernel_regularizer=l2(0.0002))(x)\n",
    "        \n",
    "    x = keras.layers.BatchNormalization()(x)\n",
    "\n",
    "    x = keras.layers.Dropout(mid_drop)(x)\n",
    "\n",
    "    x = keras.layers.Flatten()(x)\n",
    "\n",
    "    x = keras.layers.Dense(dense, activation = \"relu\")(x)\n",
    "\n",
    "    x = keras.layers.Dropout(2*mid_drop)(x)\n",
    "\n",
    "    output = keras.layers.Dense(1)(x)\n",
    "    model = keras.Model(inputs = input_, outputs = output)\n",
    "    \n",
    "    return model"
   ]
  },
  {
   "cell_type": "markdown",
   "metadata": {},
   "source": [
    "### We will first test whether resizing or padding performs better."
   ]
  },
  {
   "cell_type": "code",
   "execution_count": 76,
   "metadata": {},
   "outputs": [
    {
     "name": "stdout",
     "output_type": "stream",
     "text": [
      "============================================================\n",
      "Now testing padding. Resizing images for the model...\n"
     ]
    },
    {
     "data": {
      "application/vnd.jupyter.widget-view+json": {
       "model_id": "b1c323e9c9c648a5b618bd572a39670b",
       "version_major": 2,
       "version_minor": 0
      },
      "text/plain": [
       "  0%|          | 0/9912 [00:00<?, ?it/s]"
      ]
     },
     "metadata": {},
     "output_type": "display_data"
    },
    {
     "name": "stdout",
     "output_type": "stream",
     "text": [
      "Done resizing. Now fitting model (verbose output deactivated, please be patient).\n",
      "For pad = 0 best score is 22.715497970581055\n",
      "============================================================\n",
      "Now testing padding. Resizing images for the model...\n"
     ]
    },
    {
     "data": {
      "application/vnd.jupyter.widget-view+json": {
       "model_id": "aabd79cb5f8a46c5a3b99fb928ffd6d3",
       "version_major": 2,
       "version_minor": 0
      },
      "text/plain": [
       "  0%|          | 0/9912 [00:00<?, ?it/s]"
      ]
     },
     "metadata": {},
     "output_type": "display_data"
    },
    {
     "name": "stdout",
     "output_type": "stream",
     "text": [
      "Done resizing. Now fitting model (verbose output deactivated, please be patient).\n",
      "For pad = 1 best score is 22.27263069152832\n"
     ]
    }
   ],
   "source": [
    "for pad in [0,1]:\n",
    "    print(\"=\"*60)\n",
    "    print(\"Now testing padding. Resizing images for the model...\", sep=\"\")\n",
    "    image_dim = 128\n",
    "    X, Y, train_array, train_labels, test_array, test_labels, dev_array, dev_labels = configure_datasets(image_dim=image_dim, pad=pad)\n",
    "    model = get_model(mid_drop=0.25, n_filter_factor=8, kernel_size_factor=16, layer_sets=4, image_dim=image_dim, dense=512)\n",
    "    model.compile(\n",
    "        loss = 'mse', \n",
    "        optimizer = 'Adam', \n",
    "        metrics = [tf.keras.metrics.RootMeanSquaredError(name=\"rmse\")])\n",
    "    kall = keras.callbacks.EarlyStopping(monitor='val_rmse',patience=10,restore_best_weights=True)\n",
    "    print(\"Done resizing. Now fitting model (verbose output deactivated, please be patient).\")\n",
    "    current_model = model.fit(\n",
    "        data_augmentation.flow(dev_array,dev_labels,batch_size=512),\n",
    "        validation_data = (test_array,test_labels),\n",
    "        steps_per_epoch = len(dev_array) // 512,\n",
    "        verbose = 0, # deactivate output\n",
    "        epochs = 600, callbacks=[kall]\n",
    "    )\n",
    "    print(\"For pad =\",pad,\"best score is\",min(current_model.history[\"val_rmse\"]))"
   ]
  },
  {
   "cell_type": "markdown",
   "metadata": {},
   "source": [
    "### Padding appears to slightly outperform resizing. "
   ]
  },
  {
   "cell_type": "code",
   "execution_count": 81,
   "metadata": {},
   "outputs": [
    {
     "name": "stdout",
     "output_type": "stream",
     "text": [
      "============================================================\n",
      "Now testing image size 20x20. Resizing images for the model...\n"
     ]
    },
    {
     "data": {
      "application/vnd.jupyter.widget-view+json": {
       "model_id": "c5d32f7381de46ab9b5388d33f195994",
       "version_major": 2,
       "version_minor": 0
      },
      "text/plain": [
       "  0%|          | 0/9912 [00:00<?, ?it/s]"
      ]
     },
     "metadata": {},
     "output_type": "display_data"
    },
    {
     "name": "stdout",
     "output_type": "stream",
     "text": [
      "Done resizing. Now fitting model (verbose output deactivated, please be patient).\n",
      "For image dim = 20, best score is: 20.998106002807617.\n",
      "============================================================\n",
      "Now testing image size 25x25. Resizing images for the model...\n"
     ]
    },
    {
     "data": {
      "application/vnd.jupyter.widget-view+json": {
       "model_id": "ac8d61168fa344889febeb22ab7cdd85",
       "version_major": 2,
       "version_minor": 0
      },
      "text/plain": [
       "  0%|          | 0/9912 [00:00<?, ?it/s]"
      ]
     },
     "metadata": {},
     "output_type": "display_data"
    },
    {
     "name": "stdout",
     "output_type": "stream",
     "text": [
      "Done resizing. Now fitting model (verbose output deactivated, please be patient).\n",
      "For image dim = 25, best score is: 20.870811462402344.\n",
      "============================================================\n",
      "Now testing image size 30x30. Resizing images for the model...\n"
     ]
    },
    {
     "data": {
      "application/vnd.jupyter.widget-view+json": {
       "model_id": "894ec03319ef428a9115e0f4eae94151",
       "version_major": 2,
       "version_minor": 0
      },
      "text/plain": [
       "  0%|          | 0/9912 [00:00<?, ?it/s]"
      ]
     },
     "metadata": {},
     "output_type": "display_data"
    },
    {
     "name": "stdout",
     "output_type": "stream",
     "text": [
      "Done resizing. Now fitting model (verbose output deactivated, please be patient).\n",
      "For image dim = 30, best score is: 21.08254051208496.\n",
      "============================================================\n",
      "Now testing image size 40x40. Resizing images for the model...\n"
     ]
    },
    {
     "data": {
      "application/vnd.jupyter.widget-view+json": {
       "model_id": "81e9ef74079a4eedb5a37ca59a245ab7",
       "version_major": 2,
       "version_minor": 0
      },
      "text/plain": [
       "  0%|          | 0/9912 [00:00<?, ?it/s]"
      ]
     },
     "metadata": {},
     "output_type": "display_data"
    },
    {
     "name": "stdout",
     "output_type": "stream",
     "text": [
      "Done resizing. Now fitting model (verbose output deactivated, please be patient).\n",
      "For image dim = 40, best score is: 20.801183700561523.\n",
      "============================================================\n",
      "Now testing image size 50x50. Resizing images for the model...\n"
     ]
    },
    {
     "data": {
      "application/vnd.jupyter.widget-view+json": {
       "model_id": "e81d420a6b1640f490bd5c5fcae35f15",
       "version_major": 2,
       "version_minor": 0
      },
      "text/plain": [
       "  0%|          | 0/9912 [00:00<?, ?it/s]"
      ]
     },
     "metadata": {},
     "output_type": "display_data"
    },
    {
     "name": "stdout",
     "output_type": "stream",
     "text": [
      "Done resizing. Now fitting model (verbose output deactivated, please be patient).\n",
      "For image dim = 50, best score is: 20.894989013671875.\n",
      "============================================================\n",
      "Now testing image size 80x80. Resizing images for the model...\n"
     ]
    },
    {
     "data": {
      "application/vnd.jupyter.widget-view+json": {
       "model_id": "3b9fd1cf9ef64d8f8f20f760d90c00a8",
       "version_major": 2,
       "version_minor": 0
      },
      "text/plain": [
       "  0%|          | 0/9912 [00:00<?, ?it/s]"
      ]
     },
     "metadata": {},
     "output_type": "display_data"
    },
    {
     "name": "stdout",
     "output_type": "stream",
     "text": [
      "Done resizing. Now fitting model (verbose output deactivated, please be patient).\n",
      "For image dim = 80, best score is: 24.306787490844727.\n",
      "============================================================\n",
      "Now testing image size 100x100. Resizing images for the model...\n"
     ]
    },
    {
     "data": {
      "application/vnd.jupyter.widget-view+json": {
       "model_id": "34975ee4a14746468075164332047fa5",
       "version_major": 2,
       "version_minor": 0
      },
      "text/plain": [
       "  0%|          | 0/9912 [00:00<?, ?it/s]"
      ]
     },
     "metadata": {},
     "output_type": "display_data"
    },
    {
     "name": "stdout",
     "output_type": "stream",
     "text": [
      "Done resizing. Now fitting model (verbose output deactivated, please be patient).\n",
      "For image dim = 100, best score is: 21.167146682739258.\n",
      "============================================================\n",
      "Now testing image size 140x140. Resizing images for the model...\n"
     ]
    },
    {
     "data": {
      "application/vnd.jupyter.widget-view+json": {
       "model_id": "884de77317314755914297beca61d902",
       "version_major": 2,
       "version_minor": 0
      },
      "text/plain": [
       "  0%|          | 0/9912 [00:00<?, ?it/s]"
      ]
     },
     "metadata": {},
     "output_type": "display_data"
    },
    {
     "name": "stdout",
     "output_type": "stream",
     "text": [
      "Done resizing. Now fitting model (verbose output deactivated, please be patient).\n",
      "For image dim = 140, best score is: 20.799436569213867.\n",
      "============================================================\n",
      "Now testing image size 180x180. Resizing images for the model...\n"
     ]
    },
    {
     "data": {
      "application/vnd.jupyter.widget-view+json": {
       "model_id": "cdc36c6492cd42638414f2d5427a1278",
       "version_major": 2,
       "version_minor": 0
      },
      "text/plain": [
       "  0%|          | 0/9912 [00:00<?, ?it/s]"
      ]
     },
     "metadata": {},
     "output_type": "display_data"
    },
    {
     "name": "stdout",
     "output_type": "stream",
     "text": [
      "Done resizing. Now fitting model (verbose output deactivated, please be patient).\n",
      "For image dim = 180, best score is: 21.179229736328125.\n",
      "============================================================\n",
      "Now testing image size 240x240. Resizing images for the model...\n"
     ]
    },
    {
     "data": {
      "application/vnd.jupyter.widget-view+json": {
       "model_id": "94786bbd7428496f9309c78688442da5",
       "version_major": 2,
       "version_minor": 0
      },
      "text/plain": [
       "  0%|          | 0/9912 [00:00<?, ?it/s]"
      ]
     },
     "metadata": {},
     "output_type": "display_data"
    },
    {
     "name": "stdout",
     "output_type": "stream",
     "text": [
      "Done resizing. Now fitting model (verbose output deactivated, please be patient).\n",
      "For image dim = 240, best score is: 20.904590606689453.\n"
     ]
    }
   ],
   "source": [
    "pad = 1\n",
    "\n",
    "for image_dim in [20,25,30,40,50,80,100,140,180,240]:\n",
    "    print(\"=\"*60)\n",
    "    print(\"Now testing image size \", image_dim,\"x\",image_dim,\". Resizing images for the model...\", sep=\"\")\n",
    "    X, Y, train_array, train_labels, test_array, test_labels, dev_array, dev_labels = configure_datasets(image_dim=image_dim, pad=pad)\n",
    "    model = get_model(mid_drop=0.25, n_filter_factor=8, kernel_size_factor=16, layer_sets=4, image_dim=image_dim)\n",
    "    model.compile(\n",
    "        loss = 'mse', \n",
    "        optimizer = 'Adam', \n",
    "        metrics = [tf.keras.metrics.RootMeanSquaredError(name=\"rmse\")])\n",
    "    kall = keras.callbacks.EarlyStopping(monitor='val_rmse',patience=10,restore_best_weights=True)\n",
    "    print(\"Done resizing. Now fitting model (verbose output deactivated, please be patient).\")\n",
    "    current_model = model.fit(\n",
    "        data_augmentation.flow(dev_array,dev_labels,batch_size=128),\n",
    "        validation_data = (test_array,test_labels),\n",
    "        steps_per_epoch = len(dev_array) // 128,\n",
    "        verbose = 0, # deactivate output\n",
    "        epochs = 600, callbacks=[kall]\n",
    "    )\n",
    "    print(\"For image dim = \",image_dim,\", best score is: \",min(current_model.history[\"val_rmse\"]), \".\", sep=\"\")"
   ]
  },
  {
   "cell_type": "markdown",
   "metadata": {},
   "source": [
    "### It's VERY close, but we are seeing the best performance around image size 140x140, so we will use that going forward."
   ]
  },
  {
   "cell_type": "code",
   "execution_count": 71,
   "metadata": {},
   "outputs": [
    {
     "data": {
      "application/vnd.jupyter.widget-view+json": {
       "model_id": "c796a77b1b39462a85a550e9cb8f74b0",
       "version_major": 2,
       "version_minor": 0
      },
      "text/plain": [
       "  0%|          | 0/9624 [00:00<?, ?it/s]"
      ]
     },
     "metadata": {},
     "output_type": "display_data"
    },
    {
     "name": "stdout",
     "output_type": "stream",
     "text": [
      "============================================================\n",
      "Now testing rotation range 10\n",
      "Now fitting model (verbose output deactivated, please be patient).\n",
      "For rotation range = 10, best score is: 21.400875091552734.\n",
      "============================================================\n",
      "Now testing rotation range 20\n",
      "Now fitting model (verbose output deactivated, please be patient).\n",
      "For rotation range = 20, best score is: 19.595762252807617.\n",
      "============================================================\n",
      "Now testing rotation range 30\n",
      "Now fitting model (verbose output deactivated, please be patient).\n",
      "For rotation range = 30, best score is: 19.28080177307129.\n",
      "============================================================\n",
      "Now testing rotation range 40\n",
      "Now fitting model (verbose output deactivated, please be patient).\n",
      "For rotation range = 40, best score is: 19.1013126373291.\n",
      "============================================================\n",
      "Now testing rotation range 45\n",
      "Now fitting model (verbose output deactivated, please be patient).\n",
      "For rotation range = 45, best score is: 18.960296630859375.\n",
      "============================================================\n",
      "Now testing rotation range 50\n",
      "Now fitting model (verbose output deactivated, please be patient).\n",
      "For rotation range = 50, best score is: 19.008028030395508.\n"
     ]
    }
   ],
   "source": [
    "pad = 1\n",
    "image_dim = 140\n",
    "\n",
    "X, Y, train_array, train_labels, test_array, test_labels, dev_array, dev_labels = configure_datasets(image_dim=image_dim, pad=pad)\n",
    "model = get_model(mid_drop=0.25, n_filter_factor=8, kernel_size_factor=16, layer_sets=4, image_dim=image_dim)\n",
    "model.compile(\n",
    "    loss = 'mse', \n",
    "    optimizer = 'Adam', \n",
    "    metrics = [tf.keras.metrics.RootMeanSquaredError(name=\"rmse\")])\n",
    "kall = keras.callbacks.EarlyStopping(monitor='val_rmse',patience=10,restore_best_weights=True)\n",
    "\n",
    "for rotation_range in [10,20,30,40,45,50]:\n",
    "    print(\"=\"*60)\n",
    "    print(\"Now testing rotation range \", rotation_range, sep=\"\")\n",
    "    print(\"Now fitting model (verbose output deactivated, please be patient).\")\n",
    "    data_augmentation = ImageDataGenerator(rotation_range=rotation_range, zoom_range=0.3, width_shift_range = 0.3, \n",
    "                                            height_shift_range = 0.3, \n",
    "                                            shear_range = 0.3,\n",
    "                                            horizontal_flip = True, \n",
    "                                            fill_mode = \"nearest\")\n",
    "    current_model = model.fit(\n",
    "        data_augmentation.flow(dev_array,dev_labels,batch_size=128),\n",
    "        validation_data = (test_array,test_labels),\n",
    "        steps_per_epoch = len(dev_array) // 128,\n",
    "        verbose = 0, # deactivate output\n",
    "        epochs = 600, callbacks=[kall]\n",
    "    )\n",
    "    print(\"For rotation range = \",rotation_range,\", best score is: \",min(current_model.history[\"val_rmse\"]), \".\", sep=\"\")"
   ]
  },
  {
   "cell_type": "markdown",
   "metadata": {},
   "source": [
    "### Best rotation range: 45"
   ]
  },
  {
   "cell_type": "code",
   "execution_count": 8,
   "metadata": {},
   "outputs": [
    {
     "name": "stdout",
     "output_type": "stream",
     "text": [
      "============================================================\n",
      "Now testing Zoom range 0.1\n",
      "Now fitting model (verbose output deactivated, please be patient).\n",
      "For  = Zoom range 0.1, best score is: 21.193647384643555.\n",
      "============================================================\n",
      "Now testing Zoom range 0.3\n",
      "Now fitting model (verbose output deactivated, please be patient).\n",
      "For  = Zoom range 0.3, best score is: 21.359281539916992.\n",
      "============================================================\n",
      "Now testing Zoom range 0.5\n",
      "Now fitting model (verbose output deactivated, please be patient).\n",
      "For  = Zoom range 0.5, best score is: 21.094894409179688.\n",
      "============================================================\n",
      "Now testing Zoom range 0.7\n",
      "Now fitting model (verbose output deactivated, please be patient).\n",
      "For  = Zoom range 0.7, best score is: 20.928983688354492.\n",
      "============================================================\n",
      "Now testing Zoom range 0.9\n",
      "Now fitting model (verbose output deactivated, please be patient).\n",
      "For  = Zoom range 0.9, best score is: 20.9000301361084.\n"
     ]
    }
   ],
   "source": [
    "pad = 1\n",
    "image_dim = 140\n",
    "rotation_range = 45\n",
    "current_param = \"zoom range\"\n",
    "\n",
    "for zoom_range in [0.1,0.3,0.5,0.7,0.9]:\n",
    "    print(\"=\"*60)\n",
    "    print(\"Now testing \",current_param,\" \",zoom_range, sep=\"\")\n",
    "    print(\"Now fitting model (verbose output deactivated, please be patient).\")\n",
    "    data_augmentation = ImageDataGenerator(rotation_range=rotation_range, zoom_range=zoom_range, width_shift_range = 0.3, \n",
    "                                            height_shift_range = 0.3, \n",
    "                                            shear_range = 0.3,\n",
    "                                            horizontal_flip = True, \n",
    "                                            fill_mode = \"nearest\")\n",
    "    current_model = model.fit(\n",
    "        data_augmentation.flow(dev_array,dev_labels,batch_size=128),\n",
    "        validation_data = (test_array,test_labels),\n",
    "        steps_per_epoch = len(dev_array) // 128,\n",
    "        verbose = 0, # deactivate output\n",
    "        epochs = 600, callbacks=[kall]\n",
    "    )\n",
    "    print(\"For \",current_param,\" \",zoom_range,\", best score is: \",min(current_model.history[\"val_rmse\"]), \".\", sep=\"\")"
   ]
  },
  {
   "cell_type": "code",
   "execution_count": 9,
   "metadata": {},
   "outputs": [
    {
     "name": "stdout",
     "output_type": "stream",
     "text": [
      "============================================================\n",
      "Now testing shift/shear range 0.1\n",
      "Now fitting model (verbose output deactivated, please be patient).\n",
      "For shift/shear range 0.1, best score is: 21.07898712158203.\n",
      "============================================================\n",
      "Now testing shift/shear range 0.3\n",
      "Now fitting model (verbose output deactivated, please be patient).\n",
      "For shift/shear range 0.3, best score is: 20.996536254882812.\n",
      "============================================================\n",
      "Now testing shift/shear range 0.5\n",
      "Now fitting model (verbose output deactivated, please be patient).\n",
      "For shift/shear range 0.5, best score is: 20.84543228149414.\n",
      "============================================================\n",
      "Now testing shift/shear range 0.7\n",
      "Now fitting model (verbose output deactivated, please be patient).\n",
      "For shift/shear range 0.7, best score is: 21.02012062072754.\n",
      "============================================================\n",
      "Now testing shift/shear range 0.9\n",
      "Now fitting model (verbose output deactivated, please be patient).\n",
      "For shift/shear range 0.9, best score is: 21.009462356567383.\n"
     ]
    }
   ],
   "source": [
    "pad = 1\n",
    "image_dim = 140\n",
    "rotation_range = 45\n",
    "zoom_range = 0.9\n",
    "current_param = \"shift/shear range\"\n",
    "\n",
    "for shift_range in [0.1,0.3,0.5,0.7,0.9]:\n",
    "    print(\"=\"*60)\n",
    "    print(\"Now testing \",current_param,\" \",shift_range,\".\" sep=\"\")\n",
    "    print(\"Now fitting model (verbose output deactivated, please be patient).\")\n",
    "    data_augmentation = ImageDataGenerator(rotation_range=rotation_range, zoom_range=zoom_range, width_shift_range = shift_range, \n",
    "                                            height_shift_range = shift_range, \n",
    "                                            shear_range = shift_range,\n",
    "                                            horizontal_flip = True, \n",
    "                                            fill_mode = \"nearest\")\n",
    "    current_model = model.fit(\n",
    "        data_augmentation.flow(dev_array,dev_labels,batch_size=128),\n",
    "        validation_data = (test_array,test_labels),\n",
    "        steps_per_epoch = len(dev_array) // 128,\n",
    "        verbose = 0, # deactivate output\n",
    "        epochs = 600, callbacks=[kall]\n",
    "    )\n",
    "    print(\"For \",current_param,\" \",shift_range,\", best score is: \",min(current_model.history[\"val_rmse\"]), \".\", sep=\"\")"
   ]
  },
  {
   "cell_type": "markdown",
   "metadata": {},
   "source": [
    "### Best shift/shear range: 0.5"
   ]
  },
  {
   "cell_type": "code",
   "execution_count": 70,
   "metadata": {},
   "outputs": [
    {
     "name": "stdout",
     "output_type": "stream",
     "text": [
      "============================================================\n",
      "Now testing mid-model drop percentage 0.1.\n",
      "Now fitting model (verbose output deactivated, please be patient).\n",
      "For mid-model drop percentage = 0.1, best score is: 19.043676376342773.\n",
      "============================================================\n",
      "Now testing mid-model drop percentage 0.125.\n",
      "Now fitting model (verbose output deactivated, please be patient).\n",
      "For mid-model drop percentage = 0.125, best score is: 18.589290618896484.\n",
      "============================================================\n",
      "Now testing mid-model drop percentage 0.15.\n",
      "Now fitting model (verbose output deactivated, please be patient).\n",
      "For mid-model drop percentage = 0.15, best score is: 19.926925659179688.\n",
      "============================================================\n",
      "Now testing mid-model drop percentage 0.175.\n",
      "Now fitting model (verbose output deactivated, please be patient).\n",
      "For mid-model drop percentage = 0.175, best score is: 18.573741912841797.\n",
      "============================================================\n",
      "Now testing mid-model drop percentage 0.2.\n",
      "Now fitting model (verbose output deactivated, please be patient).\n",
      "For mid-model drop percentage = 0.2, best score is: 19.218273162841797.\n",
      "============================================================\n",
      "Now testing mid-model drop percentage 0.25.\n",
      "Now fitting model (verbose output deactivated, please be patient).\n",
      "For mid-model drop percentage = 0.25, best score is: 18.51807403564453.\n",
      "============================================================\n",
      "Now testing mid-model drop percentage 0.3.\n",
      "Now fitting model (verbose output deactivated, please be patient).\n",
      "For mid-model drop percentage = 0.3, best score is: 19.546228408813477.\n",
      "============================================================\n",
      "Now testing mid-model drop percentage 0.35.\n",
      "Now fitting model (verbose output deactivated, please be patient).\n",
      "For mid-model drop percentage = 0.35, best score is: 18.643142700195312.\n",
      "============================================================\n",
      "Now testing mid-model drop percentage 0.4.\n",
      "Now fitting model (verbose output deactivated, please be patient).\n",
      "For mid-model drop percentage = 0.4, best score is: 18.6541690826416.\n"
     ]
    }
   ],
   "source": [
    "pad = 1\n",
    "image_dim = 140\n",
    "rotation_range = 45\n",
    "zoom_range = 0.9\n",
    "shift_range = 0.5\n",
    "current_param = \"mid-model drop percentage\"\n",
    "\n",
    "\n",
    "data_augmentation = ImageDataGenerator(rotation_range=rotation_range, zoom_range=zoom_range, width_shift_range = shift_range, \n",
    "                                        height_shift_range = shift_range, \n",
    "                                        shear_range = shift_range,\n",
    "                                        horizontal_flip = True, \n",
    "                                        fill_mode = \"nearest\")\n",
    "\n",
    "for mid_drop in [0.1, 0.125, 0.15, 0.175, 0.2, 0.25, 0.3, 0.35, 0.4]:\n",
    "    print(\"=\"*60)\n",
    "    print(\"Now testing \",current_param,\" \",mid_drop,\".\", sep=\"\")\n",
    "    model = get_model(mid_drop=mid_drop, n_filter_factor=8, kernel_size_factor=16, image_dim=image_dim)\n",
    "    model.compile(\n",
    "        loss = 'mse', \n",
    "        optimizer = 'Adam', \n",
    "        metrics = [tf.keras.metrics.RootMeanSquaredError(name=\"rmse\")])\n",
    "    kall = keras.callbacks.EarlyStopping(monitor='val_rmse',patience=10,restore_best_weights=True)\n",
    "    print(\"Now fitting model (verbose output deactivated, please be patient).\")\n",
    "    current_model = model.fit(\n",
    "        data_augmentation.flow(dev_array,dev_labels,batch_size=128),\n",
    "        validation_data = (test_array,test_labels),\n",
    "        steps_per_epoch = len(dev_array) // 128,\n",
    "        verbose = 0, # deactivate output\n",
    "        epochs = 600, callbacks=[kall]\n",
    "    )\n",
    "    print(\"For \",current_param,\" = \",mid_drop,\", best score is: \",min(current_model.history[\"val_rmse\"]), \".\", sep=\"\")"
   ]
  },
  {
   "cell_type": "code",
   "execution_count": 69,
   "metadata": {},
   "outputs": [
    {
     "name": "stdout",
     "output_type": "stream",
     "text": [
      "============================================================\n",
      "Now testing baseline number of filters = 9.0.\n",
      "Now fitting model (verbose output deactivated, please be patient).\n",
      "For baseline number of filters = 9.0, best score is: 20.06688690185547.\n",
      "============================================================\n",
      "Now testing baseline number of filters = 12.0.\n",
      "Now fitting model (verbose output deactivated, please be patient).\n",
      "For baseline number of filters = 12.0, best score is: 18.655738830566406.\n",
      "============================================================\n",
      "Now testing baseline number of filters = 14.0.\n",
      "Now fitting model (verbose output deactivated, please be patient).\n",
      "For baseline number of filters = 14.0, best score is: 18.924867630004883.\n",
      "============================================================\n",
      "Now testing baseline number of filters = 18.0.\n",
      "Now fitting model (verbose output deactivated, please be patient).\n",
      "For baseline number of filters = 18.0, best score is: 18.503131866455078.\n",
      "============================================================\n",
      "Now testing baseline number of filters = 23.0.\n",
      "Now fitting model (verbose output deactivated, please be patient).\n",
      "For baseline number of filters = 23.0, best score is: 18.898681640625.\n",
      "============================================================\n",
      "Now testing baseline number of filters = 35.0.\n",
      "Now fitting model (verbose output deactivated, please be patient).\n",
      "For baseline number of filters = 35.0, best score is: 18.74222183227539.\n",
      "============================================================\n",
      "Now testing baseline number of filters = 47.0.\n",
      "Now fitting model (verbose output deactivated, please be patient).\n",
      "For baseline number of filters = 47.0, best score is: 18.766056060791016.\n",
      "============================================================\n",
      "Now testing baseline number of filters = 70.0.\n",
      "Now fitting model (verbose output deactivated, please be patient).\n",
      "For baseline number of filters = 70.0, best score is: 19.649009704589844.\n"
     ]
    }
   ],
   "source": [
    "pad = 1\n",
    "image_dim = 140\n",
    "rotation_range = 45\n",
    "zoom_range = 0.9\n",
    "shift_range = 0.5\n",
    "mid_drop = 0.15\n",
    "current_param = \"baseline number of filters\"\n",
    "\n",
    "data_augmentation = ImageDataGenerator(rotation_range=rotation_range, zoom_range=zoom_range, width_shift_range = shift_range, \n",
    "                                        height_shift_range = shift_range, \n",
    "                                        shear_range = shift_range,\n",
    "                                        horizontal_flip = True, \n",
    "                                        fill_mode = \"nearest\")\n",
    "\n",
    "for n_filter_factor in [16, 12, 10, 8, 6, 4, 3, 2]:\n",
    "    n_filter = round(image_dim/(n_filter_factor),0)\n",
    "    print(\"=\"*60)\n",
    "    print(\"Now testing \",current_param,\" = \",n_filter,\".\", sep=\"\")\n",
    "    model = get_model(mid_drop=mid_drop, n_filter_factor=8, kernel_size_factor=16, image_dim=image_dim)\n",
    "    model.compile(\n",
    "        loss = 'mse', \n",
    "        optimizer = 'Adam', \n",
    "        metrics = [tf.keras.metrics.RootMeanSquaredError(name=\"rmse\")])\n",
    "    kall = keras.callbacks.EarlyStopping(monitor='val_rmse',patience=10,restore_best_weights=True)\n",
    "    print(\"Now fitting model (verbose output deactivated, please be patient).\")\n",
    "    current_model = model.fit(\n",
    "        data_augmentation.flow(dev_array,dev_labels,batch_size=128),\n",
    "        validation_data = (test_array,test_labels),\n",
    "        steps_per_epoch = len(dev_array) // 128,\n",
    "        verbose = 0, # deactivate output\n",
    "        epochs = 600, callbacks=[kall]\n",
    "    )\n",
    "    print(\"For \",current_param,\" = \", n_filter, \", best score is: \",min(current_model.history[\"val_rmse\"]), \".\", sep=\"\")"
   ]
  },
  {
   "cell_type": "markdown",
   "metadata": {},
   "source": [
    "### Best value for `n_filter_factor` is 8 (baseline of 18 filters)."
   ]
  },
  {
   "cell_type": "code",
   "execution_count": null,
   "metadata": {},
   "outputs": [
    {
     "name": "stdout",
     "output_type": "stream",
     "text": [
      "============================================================\n",
      "Now testing baseline kernel size = 9.\n",
      "Now fitting model (verbose output deactivated, please be patient).\n",
      "For baseline kernel size = 9, best score is: 20.89390754699707.\n",
      "============================================================\n",
      "Now testing baseline kernel size = 12.\n",
      "Now fitting model (verbose output deactivated, please be patient).\n",
      "For baseline kernel size = 12, best score is: 20.833972930908203.\n",
      "============================================================\n",
      "Now testing baseline kernel size = 14.\n",
      "Now fitting model (verbose output deactivated, please be patient).\n",
      "For baseline kernel size = 14, best score is: 21.017175674438477.\n",
      "============================================================\n",
      "Now testing baseline kernel size = 18.\n",
      "Now fitting model (verbose output deactivated, please be patient).\n",
      "For baseline kernel size = 18, best score is: 20.889711380004883.\n",
      "============================================================\n",
      "Now testing baseline kernel size = 23.\n",
      "Now fitting model (verbose output deactivated, please be patient).\n",
      "For baseline kernel size = 23, best score is: 20.945804595947266.\n",
      "============================================================\n",
      "Now testing baseline kernel size = 35.\n",
      "Now fitting model (verbose output deactivated, please be patient).\n",
      "For baseline kernel size = 35, best score is: 20.957929611206055.\n",
      "============================================================\n",
      "Now testing baseline kernel size = 47.\n",
      "Now fitting model (verbose output deactivated, please be patient).\n"
     ]
    }
   ],
   "source": [
    "pad = 1\n",
    "image_dim = 140\n",
    "rotation_range = 45\n",
    "zoom_range = 0.9\n",
    "shift_range = 0.5\n",
    "mid_drop = 0.15\n",
    "n_filter_factor = 6\n",
    "current_param = \"baseline kernel size\"\n",
    "\n",
    "data_augmentation = ImageDataGenerator(rotation_range=rotation_range, zoom_range=zoom_range, width_shift_range = shift_range, \n",
    "                                        height_shift_range = shift_range, \n",
    "                                        shear_range = shift_range,\n",
    "                                        horizontal_flip = True, \n",
    "                                        fill_mode = \"nearest\")\n",
    "\n",
    "for kernel_size_factor in [16, 14, 12, 10, 8, 6, 4]:\n",
    "    kernel_size = int(round(image_dim/(kernel_size_factor), 0))\n",
    "    print(\"=\"*60)\n",
    "    print(\"Now testing \",current_param,\" = \",kernel_size,\".\", sep=\"\")\n",
    "    model = get_model(mid_drop=mid_drop, n_filter_factor=n_filter_factor, kernel_size_factor=kernel_size_factor, \n",
    "                      image_dim=image_dim)\n",
    "    model.compile(\n",
    "        loss = 'mse', \n",
    "        optimizer = 'Adam', \n",
    "        metrics = [tf.keras.metrics.RootMeanSquaredError(name=\"rmse\")])\n",
    "    kall = keras.callbacks.EarlyStopping(monitor='val_rmse',patience=10,restore_best_weights=True)\n",
    "    print(\"Now fitting model (verbose output deactivated, please be patient).\")\n",
    "    current_model = model.fit(\n",
    "        data_augmentation.flow(dev_array,dev_labels,batch_size=128),\n",
    "        validation_data = (test_array,test_labels),\n",
    "        steps_per_epoch = len(dev_array) // 128,\n",
    "        verbose = 0, # deactivate output\n",
    "        epochs = 600, callbacks=[kall]\n",
    "    )\n",
    "    print(\"For \",current_param,\" = \", kernel_size, \", best score is: \",min(current_model.history[\"val_rmse\"]), \".\", sep=\"\")"
   ]
  },
  {
   "cell_type": "code",
   "execution_count": 68,
   "metadata": {},
   "outputs": [
    {
     "name": "stdout",
     "output_type": "stream",
     "text": [
      "============================================================\n",
      "Now testing dense layer size = 16.\n",
      "Now fitting model (verbose output deactivated, please be patient).\n",
      "For dense layer size = 16, best score is: 19.45428466796875.\n",
      "============================================================\n",
      "Now testing dense layer size = 32.\n",
      "Now fitting model (verbose output deactivated, please be patient).\n",
      "For dense layer size = 32, best score is: 18.542139053344727.\n",
      "============================================================\n",
      "Now testing dense layer size = 64.\n",
      "Now fitting model (verbose output deactivated, please be patient).\n",
      "For dense layer size = 64, best score is: 18.580686569213867.\n",
      "============================================================\n",
      "Now testing dense layer size = 128.\n",
      "Now fitting model (verbose output deactivated, please be patient).\n",
      "For dense layer size = 128, best score is: 18.639244079589844.\n",
      "============================================================\n",
      "Now testing dense layer size = 256.\n",
      "Now fitting model (verbose output deactivated, please be patient).\n",
      "For dense layer size = 256, best score is: 18.518667221069336.\n",
      "============================================================\n",
      "Now testing dense layer size = 512.\n",
      "Now fitting model (verbose output deactivated, please be patient).\n",
      "For dense layer size = 512, best score is: 18.879573822021484.\n"
     ]
    }
   ],
   "source": [
    "pad = 1\n",
    "image_dim = 140\n",
    "rotation_range = 45\n",
    "zoom_range = 0.9\n",
    "shift_range = 0.5\n",
    "mid_drop = 0.15\n",
    "n_filter_factor = 8\n",
    "kernel_size_factor = 12\n",
    "current_param = \"dense layer size\"\n",
    "\n",
    "for dense in [16,32,64,128,256,512]:\n",
    "    print(\"=\"*60)\n",
    "    print(\"Now testing \",current_param,\" = \",dense,\".\", sep=\"\")\n",
    "    model = get_model(mid_drop=mid_drop, n_filter_factor=n_filter_factor, kernel_size_factor=kernel_size_factor, \n",
    "                      image_dim=image_dim, dense=dense)\n",
    "    model.compile(\n",
    "        loss = 'mse', \n",
    "        optimizer = 'Adam', \n",
    "        metrics = [tf.keras.metrics.RootMeanSquaredError(name=\"rmse\")])\n",
    "    kall = keras.callbacks.EarlyStopping(monitor='val_rmse',patience=10,restore_best_weights=True)\n",
    "    print(\"Now fitting model (verbose output deactivated, please be patient).\")\n",
    "    current_model = model.fit(\n",
    "        data_augmentation.flow(dev_array,dev_labels,batch_size=128),\n",
    "        validation_data = (test_array,test_labels),\n",
    "        steps_per_epoch = len(dev_array) // 128,\n",
    "        verbose = 0, # deactivate output\n",
    "        epochs = 600, callbacks=[kall]\n",
    "    )\n",
    "    print(\"For \",current_param,\" = \", dense, \", best score is: \",min(current_model.history[\"val_rmse\"]), \".\", sep=\"\")"
   ]
  },
  {
   "cell_type": "markdown",
   "metadata": {},
   "source": [
    "### Most of our parameters have now been tuned, so let's build the model once more, train on the full training set, and evaluate performance."
   ]
  },
  {
   "cell_type": "code",
   "execution_count": 93,
   "metadata": {},
   "outputs": [
    {
     "name": "stdout",
     "output_type": "stream",
     "text": [
      "Epoch 1/600\n",
      "7/7 [==============================] - 3s 360ms/step - loss: 588.5580 - rmse: 24.2556 - val_loss: 678.3918 - val_rmse: 26.0417\n",
      "Epoch 2/600\n",
      "7/7 [==============================] - 2s 293ms/step - loss: 327.2743 - rmse: 18.0845 - val_loss: 766.2135 - val_rmse: 27.6765\n",
      "Epoch 3/600\n",
      "7/7 [==============================] - 2s 335ms/step - loss: 338.4026 - rmse: 18.3895 - val_loss: 1172.8918 - val_rmse: 34.2442\n",
      "Epoch 4/600\n",
      "7/7 [==============================] - 2s 335ms/step - loss: 324.6320 - rmse: 18.0112 - val_loss: 701.0876 - val_rmse: 26.4737\n",
      "Epoch 5/600\n",
      "7/7 [==============================] - 2s 332ms/step - loss: 336.3156 - rmse: 18.3326 - val_loss: 493.5560 - val_rmse: 22.2109\n",
      "Epoch 6/600\n",
      "7/7 [==============================] - 2s 333ms/step - loss: 327.7695 - rmse: 18.0980 - val_loss: 455.0990 - val_rmse: 21.3276\n",
      "Epoch 7/600\n",
      "7/7 [==============================] - 2s 335ms/step - loss: 327.1987 - rmse: 18.0822 - val_loss: 371.2942 - val_rmse: 19.2630\n",
      "Epoch 8/600\n",
      "7/7 [==============================] - 2s 334ms/step - loss: 360.8653 - rmse: 18.9903 - val_loss: 406.7581 - val_rmse: 20.1625\n",
      "Epoch 9/600\n",
      "7/7 [==============================] - 2s 329ms/step - loss: 360.1971 - rmse: 18.9727 - val_loss: 365.6231 - val_rmse: 19.1152\n",
      "Epoch 10/600\n",
      "7/7 [==============================] - 2s 337ms/step - loss: 353.1291 - rmse: 18.7855 - val_loss: 422.7724 - val_rmse: 20.5558\n",
      "Epoch 11/600\n",
      "7/7 [==============================] - 2s 328ms/step - loss: 330.1100 - rmse: 18.1625 - val_loss: 382.8806 - val_rmse: 19.5614\n",
      "Epoch 12/600\n",
      "7/7 [==============================] - 2s 332ms/step - loss: 329.9858 - rmse: 18.1591 - val_loss: 461.5717 - val_rmse: 21.4788\n",
      "Epoch 13/600\n",
      "7/7 [==============================] - 2s 329ms/step - loss: 344.7411 - rmse: 18.5609 - val_loss: 430.9836 - val_rmse: 20.7545\n",
      "Epoch 14/600\n",
      "7/7 [==============================] - 2s 337ms/step - loss: 351.5232 - rmse: 18.7427 - val_loss: 357.7943 - val_rmse: 18.9093\n",
      "Epoch 15/600\n",
      "7/7 [==============================] - 2s 334ms/step - loss: 352.9013 - rmse: 18.7794 - val_loss: 361.4371 - val_rmse: 19.0053\n",
      "Epoch 16/600\n",
      "7/7 [==============================] - 2s 336ms/step - loss: 351.5649 - rmse: 18.7438 - val_loss: 434.6014 - val_rmse: 20.8415\n",
      "Epoch 17/600\n",
      "7/7 [==============================] - 2s 328ms/step - loss: 358.0876 - rmse: 18.9170 - val_loss: 359.8327 - val_rmse: 18.9631\n",
      "Epoch 18/600\n",
      "7/7 [==============================] - 2s 330ms/step - loss: 384.7380 - rmse: 19.6087 - val_loss: 415.2632 - val_rmse: 20.3722\n",
      "Epoch 19/600\n",
      "7/7 [==============================] - 2s 328ms/step - loss: 362.3582 - rmse: 19.0295 - val_loss: 374.9089 - val_rmse: 19.3565\n",
      "Epoch 20/600\n",
      "7/7 [==============================] - 2s 292ms/step - loss: 316.9520 - rmse: 17.7965 - val_loss: 353.6060 - val_rmse: 18.7981\n",
      "Epoch 21/600\n",
      "7/7 [==============================] - 2s 334ms/step - loss: 359.7703 - rmse: 18.9614 - val_loss: 371.8353 - val_rmse: 19.2769\n",
      "Epoch 22/600\n",
      "7/7 [==============================] - 2s 336ms/step - loss: 328.6395 - rmse: 18.1219 - val_loss: 395.0298 - val_rmse: 19.8694\n",
      "Epoch 23/600\n",
      "7/7 [==============================] - 2s 347ms/step - loss: 341.2443 - rmse: 18.4664 - val_loss: 353.2946 - val_rmse: 18.7898\n",
      "Epoch 24/600\n",
      "7/7 [==============================] - 2s 333ms/step - loss: 319.5325 - rmse: 17.8688 - val_loss: 359.0867 - val_rmse: 18.9433\n",
      "Epoch 25/600\n",
      "7/7 [==============================] - 2s 334ms/step - loss: 285.6078 - rmse: 16.8929 - val_loss: 347.4496 - val_rmse: 18.6336\n",
      "Epoch 26/600\n",
      "7/7 [==============================] - 2s 338ms/step - loss: 318.1320 - rmse: 17.8296 - val_loss: 348.5014 - val_rmse: 18.6618\n",
      "Epoch 27/600\n",
      "7/7 [==============================] - 2s 346ms/step - loss: 307.6172 - rmse: 17.5322 - val_loss: 405.7970 - val_rmse: 20.1385\n",
      "Epoch 28/600\n",
      "7/7 [==============================] - 2s 350ms/step - loss: 365.3236 - rmse: 19.1072 - val_loss: 345.2204 - val_rmse: 18.5737\n",
      "Epoch 29/600\n",
      "7/7 [==============================] - 2s 341ms/step - loss: 320.7243 - rmse: 17.9021 - val_loss: 350.8275 - val_rmse: 18.7240\n",
      "Epoch 30/600\n",
      "7/7 [==============================] - 2s 339ms/step - loss: 342.4366 - rmse: 18.4986 - val_loss: 351.7097 - val_rmse: 18.7476\n",
      "Epoch 31/600\n",
      "7/7 [==============================] - 2s 330ms/step - loss: 363.7260 - rmse: 19.0653 - val_loss: 345.3837 - val_rmse: 18.5781\n",
      "Epoch 32/600\n",
      "7/7 [==============================] - 2s 333ms/step - loss: 325.7757 - rmse: 18.0426 - val_loss: 344.2235 - val_rmse: 18.5468\n",
      "Epoch 33/600\n",
      "7/7 [==============================] - 2s 332ms/step - loss: 318.0526 - rmse: 17.8273 - val_loss: 347.4923 - val_rmse: 18.6347\n",
      "Epoch 34/600\n",
      "7/7 [==============================] - 2s 332ms/step - loss: 315.7009 - rmse: 17.7612 - val_loss: 344.3777 - val_rmse: 18.5509\n",
      "Epoch 35/600\n",
      "7/7 [==============================] - 2s 290ms/step - loss: 360.9977 - rmse: 18.9936 - val_loss: 342.5294 - val_rmse: 18.5011\n",
      "Epoch 36/600\n",
      "7/7 [==============================] - 2s 338ms/step - loss: 349.1080 - rmse: 18.6780 - val_loss: 343.6918 - val_rmse: 18.5324\n",
      "Epoch 37/600\n",
      "7/7 [==============================] - 2s 331ms/step - loss: 320.1360 - rmse: 17.8856 - val_loss: 348.2091 - val_rmse: 18.6539\n",
      "Epoch 38/600\n",
      "7/7 [==============================] - 2s 337ms/step - loss: 356.7387 - rmse: 18.8811 - val_loss: 342.0435 - val_rmse: 18.4879\n",
      "Epoch 39/600\n",
      "7/7 [==============================] - 2s 291ms/step - loss: 392.4479 - rmse: 19.8042 - val_loss: 382.9203 - val_rmse: 19.5622\n",
      "Epoch 40/600\n",
      "7/7 [==============================] - 2s 334ms/step - loss: 349.1006 - rmse: 18.6778 - val_loss: 395.6077 - val_rmse: 19.8838\n",
      "Epoch 41/600\n",
      "7/7 [==============================] - 2s 326ms/step - loss: 348.0210 - rmse: 18.6488 - val_loss: 359.4965 - val_rmse: 18.9540\n",
      "Epoch 42/600\n",
      "7/7 [==============================] - 2s 336ms/step - loss: 369.2455 - rmse: 19.2095 - val_loss: 410.8845 - val_rmse: 20.2643\n",
      "Epoch 43/600\n",
      "7/7 [==============================] - 2s 331ms/step - loss: 327.2438 - rmse: 18.0832 - val_loss: 393.7093 - val_rmse: 19.8360\n",
      "Epoch 44/600\n",
      "7/7 [==============================] - 2s 330ms/step - loss: 322.8993 - rmse: 17.9626 - val_loss: 389.7101 - val_rmse: 19.7349\n",
      "Epoch 45/600\n",
      "7/7 [==============================] - 2s 333ms/step - loss: 320.2620 - rmse: 17.8891 - val_loss: 349.2019 - val_rmse: 18.6804\n",
      "Epoch 46/600\n",
      "7/7 [==============================] - 2s 331ms/step - loss: 326.9182 - rmse: 18.0742 - val_loss: 356.2982 - val_rmse: 18.8694\n",
      "Epoch 47/600\n",
      "7/7 [==============================] - 2s 333ms/step - loss: 328.0454 - rmse: 18.1053 - val_loss: 346.9286 - val_rmse: 18.6195\n",
      "Epoch 48/600\n",
      "7/7 [==============================] - 2s 333ms/step - loss: 318.1870 - rmse: 17.8310 - val_loss: 351.0157 - val_rmse: 18.7289\n"
     ]
    }
   ],
   "source": [
    "pad = 1\n",
    "image_dim = 140\n",
    "rotation_range = 45\n",
    "zoom_range = 0.9\n",
    "shift_range = 0.5\n",
    "mid_drop = 0.15\n",
    "n_filter_factor = 8\n",
    "kernel_size_factor = 12\n",
    "dense = 256\n",
    "\n",
    "data_augmentation = ImageDataGenerator(rotation_range=rotation_range, zoom_range=zoom_range, width_shift_range = shift_range, \n",
    "                                        height_shift_range = shift_range, \n",
    "                                        shear_range = shift_range,\n",
    "                                        horizontal_flip = True, \n",
    "                                        fill_mode = \"nearest\")\n",
    "\n",
    "model = get_model(mid_drop=mid_drop, n_filter_factor=n_filter_factor, kernel_size_factor=kernel_size_factor, \n",
    "                      image_dim=image_dim, dense=dense)\n",
    "model.compile(\n",
    "    loss = 'mse', \n",
    "    optimizer = 'Adam', \n",
    "    metrics = [tf.keras.metrics.RootMeanSquaredError(name=\"rmse\")])\n",
    "kall = keras.callbacks.EarlyStopping(monitor='val_rmse',patience=10,restore_best_weights=True)\n",
    "current_model = model.fit(\n",
    "    data_augmentation.flow(train_array,train_labels,batch_size=128),\n",
    "    validation_data = (test_array,test_labels),\n",
    "    steps_per_epoch = len(dev_array) // 128,\n",
    "    epochs = 600, callbacks=[kall]\n",
    ")"
   ]
  },
  {
   "cell_type": "code",
   "execution_count": 94,
   "metadata": {},
   "outputs": [
    {
     "name": "stdout",
     "output_type": "stream",
     "text": [
      "Best performance on the validation set was: 18.48790168762207\n"
     ]
    }
   ],
   "source": [
    "print(\"Best performance on the validation set was:\",min(current_model.history[\"val_rmse\"]))"
   ]
  },
  {
   "cell_type": "code",
   "execution_count": 95,
   "metadata": {},
   "outputs": [
    {
     "data": {
      "image/png": "[encoded data removed]",
      "text/plain": [
       "<Figure size 432x288 with 1 Axes>"
      ]
     },
     "metadata": {
      "needs_background": "light"
     },
     "output_type": "display_data"
    }
   ],
   "source": [
    "plt.figure()\n",
    "plt.plot(current_model.history[\"rmse\"], label=\"train_rmse\")\n",
    "plt.plot(current_model.history[\"val_rmse\"], label=\"val_rmse\")\n",
    "plt.title(\"RMSE train/validation by Epoch\")\n",
    "plt.xlabel(\"Epoch #\")\n",
    "plt.ylabel(\"RMSE\")\n",
    "plt.legend(loc=\"upper right\");"
   ]
  },
  {
   "cell_type": "code",
   "execution_count": 85,
   "metadata": {},
   "outputs": [
    {
     "ename": "LightGBMError",
     "evalue": "Multiclass objective and metrics don't match",
     "output_type": "error",
     "traceback": [
      "\u001b[1;31m---------------------------------------------------------------------------\u001b[0m",
      "\u001b[1;31mLightGBMError\u001b[0m                             Traceback (most recent call last)",
      "\u001b[1;32m<ipython-input-85-0afbfcc0a52f>\u001b[0m in \u001b[0;36m<module>\u001b[1;34m\u001b[0m\n\u001b[0;32m      8\u001b[0m \u001b[0mmodel\u001b[0m \u001b[1;33m=\u001b[0m \u001b[0mlgb\u001b[0m\u001b[1;33m.\u001b[0m\u001b[0mLGBMClassifier\u001b[0m\u001b[1;33m(\u001b[0m\u001b[0mlearning_rate\u001b[0m\u001b[1;33m=\u001b[0m\u001b[1;36m0.01\u001b[0m\u001b[1;33m,\u001b[0m\u001b[0mmax_depth\u001b[0m\u001b[1;33m=\u001b[0m\u001b[1;33m-\u001b[0m\u001b[1;36m5\u001b[0m\u001b[1;33m,\u001b[0m\u001b[0mrandom_state\u001b[0m\u001b[1;33m=\u001b[0m\u001b[1;36m7\u001b[0m\u001b[1;33m)\u001b[0m\u001b[1;33m\u001b[0m\u001b[1;33m\u001b[0m\u001b[0m\n\u001b[0;32m      9\u001b[0m \u001b[1;33m\u001b[0m\u001b[0m\n\u001b[1;32m---> 10\u001b[1;33m model.fit(x2_train,y_train,eval_set=[(x2_test,y_test),(x2_train,y_train)],\n\u001b[0m\u001b[0;32m     11\u001b[0m           verbose=20,eval_metric='rmse')\n",
      "\u001b[1;32mC:\\ProgramData\\Anaconda3\\lib\\site-packages\\lightgbm\\sklearn.py\u001b[0m in \u001b[0;36mfit\u001b[1;34m(self, X, y, sample_weight, init_score, eval_set, eval_names, eval_sample_weight, eval_class_weight, eval_init_score, eval_metric, early_stopping_rounds, verbose, feature_name, categorical_feature, callbacks, init_model)\u001b[0m\n\u001b[0;32m    888\u001b[0m                     \u001b[0mvalid_sets\u001b[0m\u001b[1;33m[\u001b[0m\u001b[0mi\u001b[0m\u001b[1;33m]\u001b[0m \u001b[1;33m=\u001b[0m \u001b[1;33m(\u001b[0m\u001b[0mvalid_x\u001b[0m\u001b[1;33m,\u001b[0m \u001b[0mself\u001b[0m\u001b[1;33m.\u001b[0m\u001b[0m_le\u001b[0m\u001b[1;33m.\u001b[0m\u001b[0mtransform\u001b[0m\u001b[1;33m(\u001b[0m\u001b[0mvalid_y\u001b[0m\u001b[1;33m)\u001b[0m\u001b[1;33m)\u001b[0m\u001b[1;33m\u001b[0m\u001b[1;33m\u001b[0m\u001b[0m\n\u001b[0;32m    889\u001b[0m \u001b[1;33m\u001b[0m\u001b[0m\n\u001b[1;32m--> 890\u001b[1;33m         super().fit(X, _y, sample_weight=sample_weight, init_score=init_score, eval_set=valid_sets,\n\u001b[0m\u001b[0;32m    891\u001b[0m                     \u001b[0meval_names\u001b[0m\u001b[1;33m=\u001b[0m\u001b[0meval_names\u001b[0m\u001b[1;33m,\u001b[0m \u001b[0meval_sample_weight\u001b[0m\u001b[1;33m=\u001b[0m\u001b[0meval_sample_weight\u001b[0m\u001b[1;33m,\u001b[0m\u001b[1;33m\u001b[0m\u001b[1;33m\u001b[0m\u001b[0m\n\u001b[0;32m    892\u001b[0m                     \u001b[0meval_class_weight\u001b[0m\u001b[1;33m=\u001b[0m\u001b[0meval_class_weight\u001b[0m\u001b[1;33m,\u001b[0m \u001b[0meval_init_score\u001b[0m\u001b[1;33m=\u001b[0m\u001b[0meval_init_score\u001b[0m\u001b[1;33m,\u001b[0m\u001b[1;33m\u001b[0m\u001b[1;33m\u001b[0m\u001b[0m\n",
      "\u001b[1;32mC:\\ProgramData\\Anaconda3\\lib\\site-packages\\lightgbm\\sklearn.py\u001b[0m in \u001b[0;36mfit\u001b[1;34m(self, X, y, sample_weight, init_score, group, eval_set, eval_names, eval_sample_weight, eval_class_weight, eval_init_score, eval_group, eval_metric, early_stopping_rounds, verbose, feature_name, categorical_feature, callbacks, init_model)\u001b[0m\n\u001b[0;32m    681\u001b[0m             \u001b[0minit_model\u001b[0m \u001b[1;33m=\u001b[0m \u001b[0minit_model\u001b[0m\u001b[1;33m.\u001b[0m\u001b[0mbooster_\u001b[0m\u001b[1;33m\u001b[0m\u001b[1;33m\u001b[0m\u001b[0m\n\u001b[0;32m    682\u001b[0m \u001b[1;33m\u001b[0m\u001b[0m\n\u001b[1;32m--> 683\u001b[1;33m         self._Booster = train(params, train_set,\n\u001b[0m\u001b[0;32m    684\u001b[0m                               \u001b[0mself\u001b[0m\u001b[1;33m.\u001b[0m\u001b[0mn_estimators\u001b[0m\u001b[1;33m,\u001b[0m \u001b[0mvalid_sets\u001b[0m\u001b[1;33m=\u001b[0m\u001b[0mvalid_sets\u001b[0m\u001b[1;33m,\u001b[0m \u001b[0mvalid_names\u001b[0m\u001b[1;33m=\u001b[0m\u001b[0meval_names\u001b[0m\u001b[1;33m,\u001b[0m\u001b[1;33m\u001b[0m\u001b[1;33m\u001b[0m\u001b[0m\n\u001b[0;32m    685\u001b[0m                               \u001b[0mearly_stopping_rounds\u001b[0m\u001b[1;33m=\u001b[0m\u001b[0mearly_stopping_rounds\u001b[0m\u001b[1;33m,\u001b[0m\u001b[1;33m\u001b[0m\u001b[1;33m\u001b[0m\u001b[0m\n",
      "\u001b[1;32mC:\\ProgramData\\Anaconda3\\lib\\site-packages\\lightgbm\\engine.py\u001b[0m in \u001b[0;36mtrain\u001b[1;34m(params, train_set, num_boost_round, valid_sets, valid_names, fobj, feval, init_model, feature_name, categorical_feature, early_stopping_rounds, evals_result, verbose_eval, learning_rates, keep_training_booster, callbacks)\u001b[0m\n\u001b[0;32m    226\u001b[0m     \u001b[1;31m# construct booster\u001b[0m\u001b[1;33m\u001b[0m\u001b[1;33m\u001b[0m\u001b[1;33m\u001b[0m\u001b[0m\n\u001b[0;32m    227\u001b[0m     \u001b[1;32mtry\u001b[0m\u001b[1;33m:\u001b[0m\u001b[1;33m\u001b[0m\u001b[1;33m\u001b[0m\u001b[0m\n\u001b[1;32m--> 228\u001b[1;33m         \u001b[0mbooster\u001b[0m \u001b[1;33m=\u001b[0m \u001b[0mBooster\u001b[0m\u001b[1;33m(\u001b[0m\u001b[0mparams\u001b[0m\u001b[1;33m=\u001b[0m\u001b[0mparams\u001b[0m\u001b[1;33m,\u001b[0m \u001b[0mtrain_set\u001b[0m\u001b[1;33m=\u001b[0m\u001b[0mtrain_set\u001b[0m\u001b[1;33m)\u001b[0m\u001b[1;33m\u001b[0m\u001b[1;33m\u001b[0m\u001b[0m\n\u001b[0m\u001b[0;32m    229\u001b[0m         \u001b[1;32mif\u001b[0m \u001b[0mis_valid_contain_train\u001b[0m\u001b[1;33m:\u001b[0m\u001b[1;33m\u001b[0m\u001b[1;33m\u001b[0m\u001b[0m\n\u001b[0;32m    230\u001b[0m             \u001b[0mbooster\u001b[0m\u001b[1;33m.\u001b[0m\u001b[0mset_train_data_name\u001b[0m\u001b[1;33m(\u001b[0m\u001b[0mtrain_data_name\u001b[0m\u001b[1;33m)\u001b[0m\u001b[1;33m\u001b[0m\u001b[1;33m\u001b[0m\u001b[0m\n",
      "\u001b[1;32mC:\\ProgramData\\Anaconda3\\lib\\site-packages\\lightgbm\\basic.py\u001b[0m in \u001b[0;36m__init__\u001b[1;34m(self, params, train_set, model_file, model_str, silent)\u001b[0m\n\u001b[0;32m   2227\u001b[0m                 )\n\u001b[0;32m   2228\u001b[0m             \u001b[1;31m# construct booster object\u001b[0m\u001b[1;33m\u001b[0m\u001b[1;33m\u001b[0m\u001b[1;33m\u001b[0m\u001b[0m\n\u001b[1;32m-> 2229\u001b[1;33m             \u001b[0mtrain_set\u001b[0m\u001b[1;33m.\u001b[0m\u001b[0mconstruct\u001b[0m\u001b[1;33m(\u001b[0m\u001b[1;33m)\u001b[0m\u001b[1;33m\u001b[0m\u001b[1;33m\u001b[0m\u001b[0m\n\u001b[0m\u001b[0;32m   2230\u001b[0m             \u001b[1;31m# copy the parameters from train_set\u001b[0m\u001b[1;33m\u001b[0m\u001b[1;33m\u001b[0m\u001b[1;33m\u001b[0m\u001b[0m\n\u001b[0;32m   2231\u001b[0m             \u001b[0mparams\u001b[0m\u001b[1;33m.\u001b[0m\u001b[0mupdate\u001b[0m\u001b[1;33m(\u001b[0m\u001b[0mtrain_set\u001b[0m\u001b[1;33m.\u001b[0m\u001b[0mget_params\u001b[0m\u001b[1;33m(\u001b[0m\u001b[1;33m)\u001b[0m\u001b[1;33m)\u001b[0m\u001b[1;33m\u001b[0m\u001b[1;33m\u001b[0m\u001b[0m\n",
      "\u001b[1;32mC:\\ProgramData\\Anaconda3\\lib\\site-packages\\lightgbm\\basic.py\u001b[0m in \u001b[0;36mconstruct\u001b[1;34m(self)\u001b[0m\n\u001b[0;32m   1466\u001b[0m             \u001b[1;32melse\u001b[0m\u001b[1;33m:\u001b[0m\u001b[1;33m\u001b[0m\u001b[1;33m\u001b[0m\u001b[0m\n\u001b[0;32m   1467\u001b[0m                 \u001b[1;31m# create train\u001b[0m\u001b[1;33m\u001b[0m\u001b[1;33m\u001b[0m\u001b[1;33m\u001b[0m\u001b[0m\n\u001b[1;32m-> 1468\u001b[1;33m                 self._lazy_init(self.data, label=self.label,\n\u001b[0m\u001b[0;32m   1469\u001b[0m                                 \u001b[0mweight\u001b[0m\u001b[1;33m=\u001b[0m\u001b[0mself\u001b[0m\u001b[1;33m.\u001b[0m\u001b[0mweight\u001b[0m\u001b[1;33m,\u001b[0m \u001b[0mgroup\u001b[0m\u001b[1;33m=\u001b[0m\u001b[0mself\u001b[0m\u001b[1;33m.\u001b[0m\u001b[0mgroup\u001b[0m\u001b[1;33m,\u001b[0m\u001b[1;33m\u001b[0m\u001b[1;33m\u001b[0m\u001b[0m\n\u001b[0;32m   1470\u001b[0m                                 \u001b[0minit_score\u001b[0m\u001b[1;33m=\u001b[0m\u001b[0mself\u001b[0m\u001b[1;33m.\u001b[0m\u001b[0minit_score\u001b[0m\u001b[1;33m,\u001b[0m \u001b[0mpredictor\u001b[0m\u001b[1;33m=\u001b[0m\u001b[0mself\u001b[0m\u001b[1;33m.\u001b[0m\u001b[0m_predictor\u001b[0m\u001b[1;33m,\u001b[0m\u001b[1;33m\u001b[0m\u001b[1;33m\u001b[0m\u001b[0m\n",
      "\u001b[1;32mC:\\ProgramData\\Anaconda3\\lib\\site-packages\\lightgbm\\basic.py\u001b[0m in \u001b[0;36m_lazy_init\u001b[1;34m(self, data, label, reference, weight, group, init_score, predictor, silent, feature_name, categorical_feature, params)\u001b[0m\n\u001b[0;32m   1268\u001b[0m             \u001b[0mself\u001b[0m\u001b[1;33m.\u001b[0m\u001b[0m__init_from_csc\u001b[0m\u001b[1;33m(\u001b[0m\u001b[0mdata\u001b[0m\u001b[1;33m,\u001b[0m \u001b[0mparams_str\u001b[0m\u001b[1;33m,\u001b[0m \u001b[0mref_dataset\u001b[0m\u001b[1;33m)\u001b[0m\u001b[1;33m\u001b[0m\u001b[1;33m\u001b[0m\u001b[0m\n\u001b[0;32m   1269\u001b[0m         \u001b[1;32melif\u001b[0m \u001b[0misinstance\u001b[0m\u001b[1;33m(\u001b[0m\u001b[0mdata\u001b[0m\u001b[1;33m,\u001b[0m \u001b[0mnp\u001b[0m\u001b[1;33m.\u001b[0m\u001b[0mndarray\u001b[0m\u001b[1;33m)\u001b[0m\u001b[1;33m:\u001b[0m\u001b[1;33m\u001b[0m\u001b[1;33m\u001b[0m\u001b[0m\n\u001b[1;32m-> 1270\u001b[1;33m             \u001b[0mself\u001b[0m\u001b[1;33m.\u001b[0m\u001b[0m__init_from_np2d\u001b[0m\u001b[1;33m(\u001b[0m\u001b[0mdata\u001b[0m\u001b[1;33m,\u001b[0m \u001b[0mparams_str\u001b[0m\u001b[1;33m,\u001b[0m \u001b[0mref_dataset\u001b[0m\u001b[1;33m)\u001b[0m\u001b[1;33m\u001b[0m\u001b[1;33m\u001b[0m\u001b[0m\n\u001b[0m\u001b[0;32m   1271\u001b[0m         \u001b[1;32melif\u001b[0m \u001b[0misinstance\u001b[0m\u001b[1;33m(\u001b[0m\u001b[0mdata\u001b[0m\u001b[1;33m,\u001b[0m \u001b[0mlist\u001b[0m\u001b[1;33m)\u001b[0m \u001b[1;32mand\u001b[0m \u001b[0mlen\u001b[0m\u001b[1;33m(\u001b[0m\u001b[0mdata\u001b[0m\u001b[1;33m)\u001b[0m \u001b[1;33m>\u001b[0m \u001b[1;36m0\u001b[0m \u001b[1;32mand\u001b[0m \u001b[0mall\u001b[0m\u001b[1;33m(\u001b[0m\u001b[0misinstance\u001b[0m\u001b[1;33m(\u001b[0m\u001b[0mx\u001b[0m\u001b[1;33m,\u001b[0m \u001b[0mnp\u001b[0m\u001b[1;33m.\u001b[0m\u001b[0mndarray\u001b[0m\u001b[1;33m)\u001b[0m \u001b[1;32mfor\u001b[0m \u001b[0mx\u001b[0m \u001b[1;32min\u001b[0m \u001b[0mdata\u001b[0m\u001b[1;33m)\u001b[0m\u001b[1;33m:\u001b[0m\u001b[1;33m\u001b[0m\u001b[1;33m\u001b[0m\u001b[0m\n\u001b[0;32m   1272\u001b[0m             \u001b[0mself\u001b[0m\u001b[1;33m.\u001b[0m\u001b[0m__init_from_list_np2d\u001b[0m\u001b[1;33m(\u001b[0m\u001b[0mdata\u001b[0m\u001b[1;33m,\u001b[0m \u001b[0mparams_str\u001b[0m\u001b[1;33m,\u001b[0m \u001b[0mref_dataset\u001b[0m\u001b[1;33m)\u001b[0m\u001b[1;33m\u001b[0m\u001b[1;33m\u001b[0m\u001b[0m\n",
      "\u001b[1;32mC:\\ProgramData\\Anaconda3\\lib\\site-packages\\lightgbm\\basic.py\u001b[0m in \u001b[0;36m__init_from_np2d\u001b[1;34m(self, mat, params_str, ref_dataset)\u001b[0m\n\u001b[0;32m   1310\u001b[0m \u001b[1;33m\u001b[0m\u001b[0m\n\u001b[0;32m   1311\u001b[0m         \u001b[0mptr_data\u001b[0m\u001b[1;33m,\u001b[0m \u001b[0mtype_ptr_data\u001b[0m\u001b[1;33m,\u001b[0m \u001b[0m_\u001b[0m \u001b[1;33m=\u001b[0m \u001b[0mc_float_array\u001b[0m\u001b[1;33m(\u001b[0m\u001b[0mdata\u001b[0m\u001b[1;33m)\u001b[0m\u001b[1;33m\u001b[0m\u001b[1;33m\u001b[0m\u001b[0m\n\u001b[1;32m-> 1312\u001b[1;33m         _safe_call(_LIB.LGBM_DatasetCreateFromMat(\n\u001b[0m\u001b[0;32m   1313\u001b[0m             \u001b[0mptr_data\u001b[0m\u001b[1;33m,\u001b[0m\u001b[1;33m\u001b[0m\u001b[1;33m\u001b[0m\u001b[0m\n\u001b[0;32m   1314\u001b[0m             \u001b[0mctypes\u001b[0m\u001b[1;33m.\u001b[0m\u001b[0mc_int\u001b[0m\u001b[1;33m(\u001b[0m\u001b[0mtype_ptr_data\u001b[0m\u001b[1;33m)\u001b[0m\u001b[1;33m,\u001b[0m\u001b[1;33m\u001b[0m\u001b[1;33m\u001b[0m\u001b[0m\n",
      "\u001b[1;32mC:\\ProgramData\\Anaconda3\\lib\\site-packages\\lightgbm\\basic.py\u001b[0m in \u001b[0;36m_safe_call\u001b[1;34m(ret)\u001b[0m\n\u001b[0;32m    108\u001b[0m     \"\"\"\n\u001b[0;32m    109\u001b[0m     \u001b[1;32mif\u001b[0m \u001b[0mret\u001b[0m \u001b[1;33m!=\u001b[0m \u001b[1;36m0\u001b[0m\u001b[1;33m:\u001b[0m\u001b[1;33m\u001b[0m\u001b[1;33m\u001b[0m\u001b[0m\n\u001b[1;32m--> 110\u001b[1;33m         \u001b[1;32mraise\u001b[0m \u001b[0mLightGBMError\u001b[0m\u001b[1;33m(\u001b[0m\u001b[0m_LIB\u001b[0m\u001b[1;33m.\u001b[0m\u001b[0mLGBM_GetLastError\u001b[0m\u001b[1;33m(\u001b[0m\u001b[1;33m)\u001b[0m\u001b[1;33m.\u001b[0m\u001b[0mdecode\u001b[0m\u001b[1;33m(\u001b[0m\u001b[1;34m'utf-8'\u001b[0m\u001b[1;33m)\u001b[0m\u001b[1;33m)\u001b[0m\u001b[1;33m\u001b[0m\u001b[1;33m\u001b[0m\u001b[0m\n\u001b[0m\u001b[0;32m    111\u001b[0m \u001b[1;33m\u001b[0m\u001b[0m\n\u001b[0;32m    112\u001b[0m \u001b[1;33m\u001b[0m\u001b[0m\n",
      "\u001b[1;31mLightGBMError\u001b[0m: Multiclass objective and metrics don't match"
     ]
    }
   ],
   "source": [
    "x_2 = pd.read_csv('./train.csv')\n",
    "x_2 = x_2[x_2['Pawpularity'] != 100]\n",
    "y = x_2['Pawpularity']\n",
    "x_2 = x_2.drop(['Pawpularity','Id'], axis=1)\n",
    "\n",
    "x2_train,x2_test,y_train,y_test = train_test_split(x_2,y,test_size=0.33,random_state=7)\n",
    "\n",
    "model = lgb.LGBMClassifier(learning_rate=0.01,max_depth=-5,random_state=7)\n",
    "\n",
    "model.fit(x2_train,y_train,eval_set=[(x2_test,y_test),(x2_train,y_train)],\n",
    "          verbose=20,eval_metric='rmse')"
   ]
  },
  {
   "cell_type": "code",
   "execution_count": 182,
   "metadata": {},
   "outputs": [
    {
     "data": {
      "text/plain": [
       "<AxesSubplot:title={'center':'Feature importance'}, xlabel='Feature importance', ylabel='Features'>"
      ]
     },
     "execution_count": 182,
     "metadata": {},
     "output_type": "execute_result"
    },
    {
     "data": {
      "image/png": "[encoded data removed]",
      "text/plain": [
       "<Figure size 432x288 with 1 Axes>"
      ]
     },
     "metadata": {
      "needs_background": "light"
     },
     "output_type": "display_data"
    }
   ],
   "source": [
    "lgb.plot_importance(model)"
   ]
  },
  {
   "cell_type": "code",
   "execution_count": 183,
   "metadata": {},
   "outputs": [
    {
     "data": {
      "text/plain": [
       "<AxesSubplot:title={'center':'Metric during training'}, xlabel='Iterations', ylabel='multi_logloss'>"
      ]
     },
     "execution_count": 183,
     "metadata": {},
     "output_type": "execute_result"
    },
    {
     "data": {
      "image/png": "[encoded data removed]",
      "text/plain": [
       "<Figure size 432x288 with 1 Axes>"
      ]
     },
     "metadata": {
      "needs_background": "light"
     },
     "output_type": "display_data"
    }
   ],
   "source": [
    "lgb.plot_metric(model)"
   ]
  },
  {
   "cell_type": "code",
   "execution_count": null,
   "metadata": {},
   "outputs": [],
   "source": []
  }
 ],
 "metadata": {
  "kernelspec": {
   "display_name": "Python 3",
   "language": "python",
   "name": "python3"
  },
  "language_info": {
   "codemirror_mode": {
    "name": "ipython",
    "version": 3
   },
   "file_extension": ".py",
   "mimetype": "text/x-python",
   "name": "python",
   "nbconvert_exporter": "python",
   "pygments_lexer": "ipython3",
   "version": "3.8.8"
  }
 },
 "nbformat": 4,
 "nbformat_minor": 4
}
